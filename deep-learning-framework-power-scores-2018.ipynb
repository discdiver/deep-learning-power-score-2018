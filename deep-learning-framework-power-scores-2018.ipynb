{
  "cells": [
    {
      "metadata": {
        "_uuid": "a91bea06a94ce97847cb46a9809e6b13e40bf2f8"
      },
      "cell_type": "markdown",
      "source": "## Deep Learning Framework Power Scores 2018\n## By Jeff Hale\n\n### See this Medium article for a discussion of the state of Python deep learning frameworks in 2018 featuring these charts.\n\nI'm going to use plotly and pandas to make interactive visuals for this project."
    },
    {
      "metadata": {
        "_uuid": "5e57f4f0d92a885a98b55cd49a98096de5a8abcc"
      },
      "cell_type": "markdown",
      "source": "# Please upvote this Kaggle kernel if you find it helpful."
    },
    {
      "metadata": {
        "trusted": true,
        "_uuid": "f3fb44a1a0148c4dc68d3b600217db9f0efe790c"
      },
      "cell_type": "code",
      "source": "# import the usual frameworks\nimport pandas as pd\nimport numpy as np\nimport matplotlib.pyplot as plt\nimport seaborn as sns\nimport collections\nimport warnings\n\nfrom IPython.core.display import display, HTML\nfrom sklearn.preprocessing import MinMaxScaler\n\nimport os\nprint(os.listdir(\"../input\"))\n    \n# import plotly \nimport plotly.figure_factory as ff\nimport plotly.graph_objs as go\nimport plotly.offline as py\nimport plotly.tools as tls\n\n# for color scales in plotly\nimport colorlover as cl \n\n# define color scale https://plot.ly/ipython-notebooks/color-scales/\ncs = cl.scales['7']['qual']['Dark2']     \n\n# configure things\nwarnings.filterwarnings('ignore')\n\npd.options.display.float_format = '{:,.2f}'.format  \npd.options.display.max_columns = 999\n\npy.init_notebook_mode(connected=True)\n\n%load_ext autoreload\n%autoreload 2\n%matplotlib inline",
      "execution_count": null,
      "outputs": []
    },
    {
      "metadata": {
        "_uuid": "3e9147b30e8a4c03454e88fa2dbfac869cdb6796"
      },
      "cell_type": "markdown",
      "source": "List package versions for reproducibility."
    },
    {
      "metadata": {
        "trusted": false,
        "_uuid": "032debf495e88d72bcbf0c71e1ca575edecc237a"
      },
      "cell_type": "code",
      "source": "!pip list",
      "execution_count": null,
      "outputs": []
    },
    {
      "metadata": {
        "_uuid": "1c4b10672a59810b888587f3b9520098df1ee6d9"
      },
      "cell_type": "markdown",
      "source": "Read in the data from the csv. The Google sheet that holds the data is available [here](https://docs.google.com/spreadsheets/d/1mYfHMZfuXGpZ0ggBVDot3SJMU-VsCsEGceEL8xd1QBo/edit?usp=sharing)."
    },
    {
      "metadata": {
        "trusted": true,
        "_uuid": "5c12e16726c30bfcdd3b0aacab86f0ab25a9ea64"
      },
      "cell_type": "code",
      "source": "new_col_names = ['framework','indeed', 'monster', 'simply', 'linkedin', 'angel', \n                 'usage', 'search', 'medium', 'books', 'arxiv', 'stars', \n                 'watchers', 'forks', 'contribs',\n                ]\n\ndf = pd.read_csv('../input/dsframeworks.csv', \n                 skiprows=4,\n                 header=None, \n                 nrows=7, \n                 thousands=',',\n                 index_col=0,\n                 names=new_col_names,\n                 usecols=new_col_names,\n                )\ndf",
      "execution_count": null,
      "outputs": []
    },
    {
      "metadata": {
        "_uuid": "e28ebf3e456dd61cc442fe31f812c92b78fedcac"
      },
      "cell_type": "markdown",
      "source": "Cool. We used the read_csv parameters to give us just what we wanted."
    },
    {
      "metadata": {
        "_uuid": "b2c570c88293185e4724b2caba4cd635bf1d0747"
      },
      "cell_type": "markdown",
      "source": "## Basic Data Exploration\nLet's see what the data look like."
    },
    {
      "metadata": {
        "trusted": false,
        "_uuid": "77c7bdd69597287333d3ef931d4d44bf36c64b5c"
      },
      "cell_type": "code",
      "source": "df.info()",
      "execution_count": null,
      "outputs": []
    },
    {
      "metadata": {
        "trusted": false,
        "_uuid": "5557480378c71f18796789d5a52824536e3ca9ad"
      },
      "cell_type": "code",
      "source": "df.describe()",
      "execution_count": null,
      "outputs": []
    },
    {
      "metadata": {
        "_uuid": "d35b0dac3c8e6a8dcef9c0ea6cd921612394ec0c"
      },
      "cell_type": "markdown",
      "source": "Looks like pandas read the usage column as a string because of it's percent sign. Let's make that a decimal."
    },
    {
      "metadata": {
        "trusted": false,
        "_uuid": "148b678b1f7aff56d45741b20726046c859d7ca8"
      },
      "cell_type": "code",
      "source": "df['usage'] = pd.to_numeric(df['usage'].str.strip('%'))\ndf['usage'] = df['usage'].astype(int)\ndf",
      "execution_count": null,
      "outputs": []
    },
    {
      "metadata": {
        "trusted": false,
        "_uuid": "85f78e428e45d7ace1460f80f2cac2e82ce58688"
      },
      "cell_type": "code",
      "source": "df.info()",
      "execution_count": null,
      "outputs": []
    },
    {
      "metadata": {
        "_uuid": "deb765bae37ab310f1478b6253b6a25146f5d22d"
      },
      "cell_type": "markdown",
      "source": "All ints! Great!"
    },
    {
      "metadata": {
        "_uuid": "52d0441e5dab9b2de7bb0a2c75f3a22b62743adb"
      },
      "cell_type": "markdown",
      "source": "# Plotly\nLet's make interactive plots with plotly for each popularity category."
    },
    {
      "metadata": {
        "_uuid": "21f16d313950450044bd5715fb9e085386c05028"
      },
      "cell_type": "markdown",
      "source": "## Online Job Listings\nI looked at how many times each framework appeared in searches on job listing websites. For more discussion see the Medium Article the accompanies this notebook here."
    },
    {
      "metadata": {
        "trusted": false,
        "_uuid": "16e9eda2dd2be652af28ea8e86ed5edea0fcbb92"
      },
      "cell_type": "code",
      "source": "# sum groupby for the hiring columns\ndf['hiring'] = df['indeed'] + df['monster'] + df['linkedin'] + df['simply'] + df['angel']",
      "execution_count": null,
      "outputs": []
    },
    {
      "metadata": {
        "trusted": false,
        "_uuid": "b2b3713afedae43b037c82ce845a9285d9e77b82"
      },
      "cell_type": "code",
      "source": "df",
      "execution_count": null,
      "outputs": []
    },
    {
      "metadata": {
        "trusted": false,
        "_uuid": "a32c444f9c19dcd926b17c57ac42b9681682926f"
      },
      "cell_type": "code",
      "source": "data = [go.Bar(\n    x=df.index,\n    y=df.hiring,\n    marker=dict(color=cs),\n    )\n]\n\nlayout = {'title': 'Online Job Listings',\n          'xaxis': {'title': 'Framework'},\n          'yaxis': {'title': \"Quantity\"},\n         }\n\nfig = go.Figure(data=data, layout=layout)\npy.iplot(fig)",
      "execution_count": null,
      "outputs": []
    },
    {
      "metadata": {
        "_uuid": "99b617b23e56f5d4e853a2b47557b817739d43bd"
      },
      "cell_type": "markdown",
      "source": "That's just the aggregate listings. Let's plot the job listing mentions for each website in a stacked bar chart. This will take multiple traces."
    },
    {
      "metadata": {
        "trusted": false,
        "_uuid": "474b0ce5c9f1733190369f1b5e52360ebd941740"
      },
      "cell_type": "code",
      "source": "y_indeed = df['indeed']\ny_monster = df['monster']\ny_simply = df['simply']\ny_linkedin = df['linkedin']\ny_angel = df['angel']",
      "execution_count": null,
      "outputs": []
    },
    {
      "metadata": {
        "trusted": false,
        "_uuid": "489ab9534acbd314d2ed9d85fca1db6b372cd673"
      },
      "cell_type": "code",
      "source": "indeed = go.Bar(x=df.index, y=y_indeed, name = 'Indeed')\nsimply = go.Bar(x=df.index, y=y_simply, name='Simply Hired')\nmonster = go.Bar(x=df.index, y=y_monster, name='Monster')\nlinked = go.Bar(x=df.index, y=y_linkedin, name='LinkedIn')\nangel = go.Bar(x=df.index, y=y_angel, name='Angel List')\n\ndata = [linked, indeed, simply, monster, angel]\nlayout = go.Layout(\n    barmode='stack',\n    title='Online Job Listings',\n    xaxis={'title': 'Framework'},\n    yaxis={'title': 'Mentions', 'separatethousands': True},\n    colorway=cs,\n)\n\nfig = go.Figure(data = data, layout = layout)\npy.iplot(fig)",
      "execution_count": null,
      "outputs": []
    },
    {
      "metadata": {
        "_uuid": "60e0d97cb36a3b7535c9a29b8e746a7e755065f5"
      },
      "cell_type": "markdown",
      "source": "Cool. Now let's see how this data looks with grouped bars instead of stacked bars by changing the barmode to \"group\"."
    },
    {
      "metadata": {
        "trusted": false,
        "_uuid": "5a02824fc45a9eb5244f79294cf6c869932a0ae5"
      },
      "cell_type": "code",
      "source": "indeed = go.Bar(x=df.index, y=y_indeed, name = \"Indeed\")\nsimply = go.Bar(x=df.index, y=y_simply, name=\"Simply Hired\")\nmonster = go.Bar(x=df.index, y=y_monster, name=\"Monster\")\nlinked = go.Bar(x=df.index, y=y_linkedin, name=\"LinkedIn\")\nangel = go.Bar(x=df.index, y=y_angel, name='Angel List')\n\ndata = [linked, indeed, simply, monster, angel]\nlayout = go.Layout(\n    barmode='group',\n    title=\"Online Job Listings\",\n    xaxis={'title': 'Framework'},\n    yaxis={'title': \"Listings\", 'separatethousands': True,\n    }\n)\n\nfig = go.Figure(data=data, layout=layout)\npy.iplot(fig)",
      "execution_count": null,
      "outputs": []
    },
    {
      "metadata": {
        "_uuid": "5b6b9a752c28bff6a4f854b56a837da6a6c71838"
      },
      "cell_type": "markdown",
      "source": "## KDnuggets Usage Survey\nLet's look at usage as reported in KDnuggets 2018 survey."
    },
    {
      "metadata": {
        "trusted": false,
        "_uuid": "4192746d4ecfbf4e8b99141e63ac015f3260f9a7"
      },
      "cell_type": "code",
      "source": "# Make sure you have colorlover imported as cl for color scale\ndf['usage'] = df['usage'] / 100",
      "execution_count": null,
      "outputs": []
    },
    {
      "metadata": {
        "_uuid": "d9fcef25d82c5bf6a66a43fdad901e43aff8d8d1"
      },
      "cell_type": "markdown",
      "source": "## Google Search Volume"
    },
    {
      "metadata": {
        "trusted": false,
        "_uuid": "fd8ab68d6f03a9c70807cdc97a0bea407a5783c9"
      },
      "cell_type": "code",
      "source": "data = [\n    go.Bar(\n        x=df.index, \n        y=df['usage'],\n        marker=dict(color=cs)  \n    )\n]\n    \nlayout = {\n    'title': 'KDnuggets Usage Survey',\n    'xaxis': {'title': 'Framework'},\n    'yaxis': {'title': \"% Respondents Used in Past Year\", 'tickformat': '.0%'},\n}\n\nfig = go.Figure(data=data, layout=layout)\npy.iplot(fig)",
      "execution_count": null,
      "outputs": []
    },
    {
      "metadata": {
        "trusted": false,
        "_uuid": "a147da72b159c2b0f2b708af3692932d6408edae"
      },
      "cell_type": "code",
      "source": "data = [\n    go.Bar(\n        x = df.index, \n        y = df['search'],\n        marker = dict(color=cs),  \n    )\n]\n    \nlayout = {\n    'title': 'Google Search Volume',\n    'xaxis': {'title': 'Framework'},\n    'yaxis': {'title': \"Relative Search Volume\"},\n}\n\nfig = go.Figure(data=data, layout=layout)\npy.iplot(fig)",
      "execution_count": null,
      "outputs": []
    },
    {
      "metadata": {
        "_uuid": "a6e06c4826a9ff29008d10929f414de1ef774f8a"
      },
      "cell_type": "markdown",
      "source": "## Medium Articles"
    },
    {
      "metadata": {
        "trusted": false,
        "_uuid": "e70ab521830995f8e6e62516241f8f48f967cef0"
      },
      "cell_type": "code",
      "source": "# Make sure you have colorlover imported as cl for color scale\n# cs is defined in first cell\n\ndata = [\n    go.Bar(\n        x=df.index, \n        y=df['medium'],\n        marker=dict(color=cs) ,\n    )\n]\n    \nlayout = {\n    'title': 'Medium Articles',\n    'xaxis': {'title': 'Framework'},\n    'yaxis': {'title': \"Articles\"},\n}\n\nfig = go.Figure(data=data, layout=layout)\npy.iplot(fig)",
      "execution_count": null,
      "outputs": []
    },
    {
      "metadata": {
        "_uuid": "11083db3187d0af7f0fffd278cd63c74f0276bad"
      },
      "cell_type": "markdown",
      "source": "## Amazon Books"
    },
    {
      "metadata": {
        "trusted": false,
        "_uuid": "a3c86aac9c2d0ee0c0de733ffac2a0602a7d14f1"
      },
      "cell_type": "code",
      "source": "data = [\n    go.Bar(\n        x=df.index, \n        y=df['books'],\n        marker=dict(color=cs),           \n    )\n]\n    \nlayout = {\n    'title': 'Amazon Books',\n    'xaxis': {'title': 'Framework'},\n    'yaxis': {'title': \"Books\"},\n}\n\nfig = go.Figure(data=data, layout=layout)\npy.iplot(fig)",
      "execution_count": null,
      "outputs": []
    },
    {
      "metadata": {
        "_uuid": "b4b7c7d872126b440a6447a9a469360fe083caa3"
      },
      "cell_type": "markdown",
      "source": "## ArXiv Articles"
    },
    {
      "metadata": {
        "trusted": false,
        "_uuid": "364eeff0093bc59938f254b1c112dcfb8944c963"
      },
      "cell_type": "code",
      "source": "data = [\n    go.Bar(\n        x=df.index, \n        y=df['arxiv'],\n        marker=dict(color=cs),           \n    )\n]\n\nlayout = {\n    'title': 'ArXiv Articles',\n    'xaxis': {'title': 'Framework'},\n    'yaxis': {'title': \"Articles\"},\n}\n\nfig = go.Figure(data=data, layout=layout)\npy.iplot(fig)",
      "execution_count": null,
      "outputs": []
    },
    {
      "metadata": {
        "_uuid": "1c91ee725e0f84dca231777f7e5d70ea1a5bbab3"
      },
      "cell_type": "markdown",
      "source": "# GitHub Activity\nLet's make another stacked bar chart of the four GitHub categories."
    },
    {
      "metadata": {
        "trusted": false,
        "_uuid": "13ee09fc5aa8b182ebc8a91ab76a75b17619f08a"
      },
      "cell_type": "code",
      "source": "y_stars = df['stars']\ny_watchers = df['watchers']\ny_forks = df['forks']\ny_contribs = df['contribs']\n\nstars = go.Bar(x = df.index, y=y_stars, name=\"Stars\")\nwatchers = go.Bar(x=df.index, y=y_watchers, name=\"Watchers\")\nforks = go.Bar(x=df.index, y=y_forks, name=\"Forks\")\ncontribs = go.Bar(x=df.index, y=y_contribs, name=\"Contributors\")\n\n\ndata = [stars, watchers, forks, contribs]\nlayout = go.Layout(barmode='stack', \n    title=\"GitHub Activity\",\n    xaxis={'title': 'Framework'},\n    yaxis={\n        'title': \"Quantity\",\n        'separatethousands': True,\n    }\n)\n\nfig = go.Figure(data=data, layout=layout)\npy.iplot(fig)",
      "execution_count": null,
      "outputs": []
    },
    {
      "metadata": {
        "_uuid": "e58b069e7dd390dfeb65b17bd23217a581c8c0ed"
      },
      "cell_type": "markdown",
      "source": "This configuration doesn't make the most sense, because there are going to be way more stars than contributors. It's not an apples to apples comparison. Let's try four subplots instead."
    },
    {
      "metadata": {
        "trusted": false,
        "_uuid": "815d4f533e7846be6c42c65e82dc34cc2610026e"
      },
      "cell_type": "code",
      "source": "trace1 = go.Bar(\n    x=df.index,\n    y=df['stars'],\n    name='Stars',\n    marker=dict(color=cs),\n)\ntrace2 = go.Bar(\n    x=df.index,\n    y=df['forks'],\n    name =\"Forks\",\n    marker=dict(color=cs)\n)\ntrace3 = go.Bar(\n    x=df.index,\n    y=df['watchers'],\n    name='Watchers',\n    marker=dict(color=cs)\n)\ntrace4 = go.Bar(\n    x=df.index,\n    y=df['contribs'],\n    name='Contributors',\n    marker=dict(color=cs),\n)\n\nfig = tls.make_subplots(\n    rows=2, \n    cols=2, \n    subplot_titles=(\n        'Stars', \n        'Forks',\n        'Watchers',\n        'Contributors',\n    )\n)\n\nfig['layout']['yaxis3'].update(separatethousands = True)\nfig['layout']['yaxis4'].update(separatethousands = True)\nfig['layout']['yaxis2'].update(tickformat = ',k', separatethousands = True)\nfig['layout']['yaxis1'].update(tickformat = ',k', separatethousands = True)\n\nfig.append_trace(trace1, 1, 1)\nfig.append_trace(trace2, 1, 2)\nfig.append_trace(trace3, 2, 1)\nfig.append_trace(trace4, 2, 2)\n\nfig['layout'].update(title = 'GitHub Activity', showlegend = False)\npy.iplot(fig)",
      "execution_count": null,
      "outputs": []
    },
    {
      "metadata": {
        "_uuid": "8b2192e20eb9f82f1a5c57c035c6468bcdbf12bb"
      },
      "cell_type": "markdown",
      "source": "This presentation shows the information in a more comprehensible and appropriate format."
    },
    {
      "metadata": {
        "_uuid": "dc349da513db7f10d367354847998b49d324096f"
      },
      "cell_type": "markdown",
      "source": "# Scale and Aggregate for Power Scores\nScale each column. For each column we'll use MinMaxScaler to subtract the minumum and divide by the original max - original min."
    },
    {
      "metadata": {
        "trusted": false,
        "_uuid": "c3d6ede7f80bd83a482197b8ea365650ec798bff"
      },
      "cell_type": "code",
      "source": "df.info()",
      "execution_count": null,
      "outputs": []
    },
    {
      "metadata": {
        "trusted": false,
        "_uuid": "90de34cb37e8c36b429e383c20704b6de2f9bc43"
      },
      "cell_type": "code",
      "source": "scale = MinMaxScaler()\nscaled_df = pd.DataFrame(\n    scale.fit_transform(df), \n    columns = df.columns,\n    index = df.index)    ",
      "execution_count": null,
      "outputs": []
    },
    {
      "metadata": {
        "trusted": false,
        "_uuid": "ec2a78ffdafbe829292fd99225d48b2364437545"
      },
      "cell_type": "code",
      "source": "scaled_df",
      "execution_count": null,
      "outputs": []
    },
    {
      "metadata": {
        "_uuid": "1ad75d99ddc77a83f5d17c7db96788f6720a23f7"
      },
      "cell_type": "markdown",
      "source": "### Scaled Online Job Listings\nLet's combine the scaled online job listing columns into a new column."
    },
    {
      "metadata": {
        "trusted": false,
        "_uuid": "6f645ff3d5e4d13e8bfb10d052a46d98a85342bd"
      },
      "cell_type": "code",
      "source": "scaled_df['hiring_score'] = scaled_df[['indeed', 'monster', 'simply', 'linkedin', 'angel']].mean(axis=1)",
      "execution_count": null,
      "outputs": []
    },
    {
      "metadata": {
        "trusted": false,
        "_uuid": "0c94cdb2f2ce2047f0ad136f402b3a7283928b4e"
      },
      "cell_type": "code",
      "source": "scaled_df",
      "execution_count": null,
      "outputs": []
    },
    {
      "metadata": {
        "_uuid": "cfb9f50f8845ef8d5d3649c2d81ae263050611c9"
      },
      "cell_type": "markdown",
      "source": "Now we have a hiring score."
    },
    {
      "metadata": {
        "_uuid": "e786bb0202bc558790cebb551c658e04e54daaa6"
      },
      "cell_type": "markdown",
      "source": "### Scaled GitHub Activity\n\nLet's combine the scaled GitHub columns into a new column."
    },
    {
      "metadata": {
        "trusted": false,
        "_uuid": "7f40874e9802d8835f35546ed7ed166a98186a11"
      },
      "cell_type": "code",
      "source": "scaled_df['github_score'] = scaled_df[['stars', 'watchers', 'forks', 'contribs']].mean(axis=1)",
      "execution_count": null,
      "outputs": []
    },
    {
      "metadata": {
        "trusted": false,
        "_uuid": "3ebc942d4e8968bebf9212a36d482c7a8317f319"
      },
      "cell_type": "code",
      "source": "scaled_df",
      "execution_count": null,
      "outputs": []
    },
    {
      "metadata": {
        "_uuid": "c475e5274adbf9edcd01501ec5cc918e4fb4a074"
      },
      "cell_type": "markdown",
      "source": "Now we have all our aggregate columns and are ready to turn to the weights."
    },
    {
      "metadata": {
        "_uuid": "3043fe82cdf2ccab22a9b5510d62516ccce7a36e"
      },
      "cell_type": "markdown",
      "source": "## Weights"
    },
    {
      "metadata": {
        "_uuid": "3afa636153bf9c65a95b01532c33f011b9754f15"
      },
      "cell_type": "markdown",
      "source": "Let's make a pie chart of weights by category."
    },
    {
      "metadata": {
        "trusted": false,
        "_uuid": "ff1a609cd3adaf98303b00140e301d14bd91ef58"
      },
      "cell_type": "code",
      "source": "weights = {'Online Job Listings ': .3,\n           'KDnuggets Usage Survey': .2,\n           'GitHub Activity': .1,\n           'Google Search Volume': .1,\n           'Medium Articles': .1,\n           'Amazon Books': .1,\n           'ArXiv Articles': .1 }",
      "execution_count": null,
      "outputs": []
    },
    {
      "metadata": {
        "trusted": false,
        "_uuid": "c7a7dff08840d6df0088b18ca8612f4c7e489947"
      },
      "cell_type": "code",
      "source": "# changing colors because we want to show these aren't the frameworks\nweight_colors = cl.scales['7']['qual']['Set1'] \n\ncommon_props = dict(\n    labels = list(weights.keys()),\n    values = list(weights.values()),\n    textfont=dict(size=16),\n    marker=dict(colors=weight_colors),\n    hoverinfo='none',\n    showlegend=False,\n)\n\ntrace1 = go.Pie(\n    **common_props,\n    textinfo='label',\n    textposition='outside',\n)\n\ntrace2 = go.Pie(\n    **common_props,\n    textinfo='percent',\n    textposition='inside',\n)\n\nlayout = go.Layout(title = 'Weights by Category')\n\nfig = go.Figure([trace1, trace2], layout=layout)\npy.iplot(fig)",
      "execution_count": null,
      "outputs": []
    },
    {
      "metadata": {
        "_uuid": "e2c84ca9733d8d3163aa0e8e74f1b4acdc844445"
      },
      "cell_type": "markdown",
      "source": "## Weight the Categories"
    },
    {
      "metadata": {
        "trusted": false,
        "_uuid": "f5d1eb479d788beef0aaecc0edbe4c7b260e47a9"
      },
      "cell_type": "code",
      "source": "scaled_df['w_hiring'] = scaled_df['hiring_score'] * .3\nscaled_df['w_usage'] = scaled_df['usage'] * .2\nscaled_df['w_github'] = scaled_df['github_score'] * .1\nscaled_df['w_search'] = scaled_df['search'] * .1\nscaled_df['w_arxiv'] = scaled_df['arxiv'] * .1\nscaled_df['w_books'] = scaled_df['books'] * .1\nscaled_df['w_medium'] = scaled_df['medium'] * .1",
      "execution_count": null,
      "outputs": []
    },
    {
      "metadata": {
        "trusted": false,
        "_uuid": "5e51a796d7aa45ee156e281829bb7cfae4115035"
      },
      "cell_type": "code",
      "source": "weight_list = ['w_hiring', 'w_usage', 'w_github', 'w_search', 'w_arxiv', 'w_books', 'w_medium']\nscaled_df = scaled_df[weight_list]\nscaled_df",
      "execution_count": null,
      "outputs": []
    },
    {
      "metadata": {
        "_uuid": "f00fe5959fb7e3576c92d3b2dfb22a0b0c6e4fc6"
      },
      "cell_type": "markdown",
      "source": "## Power Scores\nLet's make the power score column by summing the seven category scores."
    },
    {
      "metadata": {
        "trusted": false,
        "_uuid": "61a6bcbfd5cb59c46e855367068dda6099748629"
      },
      "cell_type": "code",
      "source": "scaled_df['ps'] = scaled_df[weight_list].sum(axis = 1)\nscaled_df",
      "execution_count": null,
      "outputs": []
    },
    {
      "metadata": {
        "_uuid": "b60aef0b45cceb6898344158b7ed889ef45115ac"
      },
      "cell_type": "markdown",
      "source": "Let's clean things up for publication"
    },
    {
      "metadata": {
        "trusted": false,
        "_uuid": "9a60dab959409d1912113bd5304d133006efa1ae"
      },
      "cell_type": "code",
      "source": "p_s_df = scaled_df * 100\np_s_df = p_s_df.round(2)\np_s_df.columns = ['Job Search Listings', 'Usage Survey', 'Search Volume', 'Medium Articles', 'Amazon Books', 'ArXiv Articles', 'GitHub Activity', 'Power Score']\np_s_df.rename_axis('Framework', inplace = True)\np_s_df",
      "execution_count": null,
      "outputs": []
    },
    {
      "metadata": {
        "_uuid": "1c9f48ceb8f5d414a3480ec678fb41a5a628b066"
      },
      "cell_type": "markdown",
      "source": "Let's make a bar chart of the power scores."
    },
    {
      "metadata": {
        "trusted": false,
        "_uuid": "6f69cd7233e4d7af07b61cfda87145421d0fdf2e"
      },
      "cell_type": "code",
      "source": "data = [\n    go.Bar(\n        x=scaled_df.index,          # you can pass plotly the axis\n        y=p_s_df['Power Score'],\n        marker=dict(color=cs),\n        text=p_s_df['Power Score'],\n        textposition='outside',\n        textfont=dict(size=10)\n    )\n]\n\nlayout = {\n    'title': 'Deep Learning Framework Power Scores 2018',\n    'xaxis': {'title': 'Framework'},\n    'yaxis': {'title': \"Score\"}\n}\n\nfig = go.Figure(data=data, layout=layout)\npy.iplot(fig)",
      "execution_count": null,
      "outputs": []
    },
    {
      "metadata": {
        "_uuid": "d9377852c504ffd1df737796f16fc22e850c776b"
      },
      "cell_type": "markdown",
      "source": "## That's the end! \n## Pleave upvote if you found this interesting or informative!"
    }
  ],
  "metadata": {
    "kernelspec": {
      "display_name": "Python 3",
      "language": "python",
      "name": "python3"
    },
    "language_info": {
      "codemirror_mode": {
        "name": "ipython",
        "version": 3
      },
      "file_extension": ".py",
      "mimetype": "text/x-python",
      "name": "python",
      "nbconvert_exporter": "python",
      "pygments_lexer": "ipython3",
      "version": "3.6.6"
    }
  },
  "nbformat": 4,
  "nbformat_minor": 1
}