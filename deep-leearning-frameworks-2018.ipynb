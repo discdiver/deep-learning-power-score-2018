{
  "cells": [
    {
      "metadata": {
        "_uuid": "a91bea06a94ce97847cb46a9809e6b13e40bf2f8"
      },
      "cell_type": "markdown",
      "source": "## Deep Learning Framework Power Scores 2018\n## By Jeff Hale\n\n### See [this Medium article](https://towardsdatascience.com/deep-learning-framework-power-scores-2018-23607ddf297a) for a discussion of the state of Python deep learning frameworks in 2018 featuring these charts.\n\nI'm going to use plotly and pandas to make interactive visuals for this project."
    },
    {
      "metadata": {
        "_uuid": "5e57f4f0d92a885a98b55cd49a98096de5a8abcc"
      },
      "cell_type": "markdown",
      "source": "# Please upvote this Kaggle kernel if you find it helpful."
    },
    {
      "metadata": {
        "trusted": true,
        "_uuid": "f3fb44a1a0148c4dc68d3b600217db9f0efe790c"
      },
      "cell_type": "code",
      "source": "# import the usual frameworks\nimport pandas as pd\nimport numpy as np\nimport matplotlib.pyplot as plt\nimport seaborn as sns\nimport collections\nimport warnings\n\nfrom IPython.core.display import display, HTML\nfrom sklearn.preprocessing import MinMaxScaler\n\nimport os\nprint(os.listdir(\"../input\"))\n    \n# import plotly \nimport plotly.figure_factory as ff\nimport plotly.graph_objs as go\nimport plotly.offline as py\nimport plotly.tools as tls\n\n# for color scales in plotly\nimport colorlover as cl \n\n# define color scale https://plot.ly/ipython-notebooks/color-scales/\ncs = cl.scales['7']['qual']['Dark2']     \n\n# configure things\nwarnings.filterwarnings('ignore')\n\npd.options.display.float_format = '{:,.2f}'.format  \npd.options.display.max_columns = 999\n\npy.init_notebook_mode(connected=True)\n\n%load_ext autoreload\n%autoreload 2\n%matplotlib inline",
      "execution_count": 4,
      "outputs": [
        {
          "output_type": "stream",
          "text": "['dsframeworks.csv']\n",
          "name": "stdout"
        },
        {
          "output_type": "display_data",
          "data": {
            "text/html": "<script>requirejs.config({paths: { 'plotly': ['https://cdn.plot.ly/plotly-latest.min']},});if(!window.Plotly) {{require(['plotly'],function(plotly) {window.Plotly=plotly;});}}</script>",
            "text/vnd.plotly.v1+html": "<script>requirejs.config({paths: { 'plotly': ['https://cdn.plot.ly/plotly-latest.min']},});if(!window.Plotly) {{require(['plotly'],function(plotly) {window.Plotly=plotly;});}}</script>"
          },
          "metadata": {}
        },
        {
          "output_type": "stream",
          "text": "The autoreload extension is already loaded. To reload it, use:\n  %reload_ext autoreload\n",
          "name": "stdout"
        }
      ]
    },
    {
      "metadata": {
        "_uuid": "3e9147b30e8a4c03454e88fa2dbfac869cdb6796"
      },
      "cell_type": "markdown",
      "source": "List package versions for reproducibility."
    },
    {
      "metadata": {
        "trusted": true,
        "_uuid": "032debf495e88d72bcbf0c71e1ca575edecc237a"
      },
      "cell_type": "code",
      "source": "#!pip list",
      "execution_count": 5,
      "outputs": []
    },
    {
      "metadata": {
        "_uuid": "1c4b10672a59810b888587f3b9520098df1ee6d9"
      },
      "cell_type": "markdown",
      "source": "Read in the data from the csv. The Google sheet that holds the data is available [here](https://docs.google.com/spreadsheets/d/1mYfHMZfuXGpZ0ggBVDot3SJMU-VsCsEGceEL8xd1QBo/edit?usp=sharing)."
    },
    {
      "metadata": {
        "trusted": true,
        "_uuid": "5c12e16726c30bfcdd3b0aacab86f0ab25a9ea64"
      },
      "cell_type": "code",
      "source": "new_col_names = ['framework','indeed', 'monster', 'simply', 'linkedin', 'angel', \n                 'usage', 'search', 'medium', 'books', 'arxiv', 'stars', \n                 'watchers', 'forks', 'contribs',\n                ]\n\ndf = pd.read_csv('../input/dsframeworks.csv', \n                 skiprows=4,\n                 header=None, \n                 nrows=7, \n                 thousands=',',\n                 index_col=0,\n                 names=new_col_names,\n                 usecols=new_col_names,\n                )\ndf",
      "execution_count": 6,
      "outputs": [
        {
          "output_type": "execute_result",
          "execution_count": 6,
          "data": {
            "text/plain": "            indeed  monster  simply  linkedin  angel   usage  search  medium  \\\nframework                                                                      \nTensorFlow    2079     1253    1582      2610    552  29.90%      78   45300   \nKeras          684      364     449       695    177  22.20%      38   48200   \nPyTorch        486      309     428       665    120   6.40%      30    6410   \nTheano         356      316     279       508     95   4.90%       1    1670   \nMXNET          266      154     200       298     29   1.50%       3    2010   \nCNTK           126       96      97       160     12   3.00%       1     675   \nFastAI           0        0       0         0      0   0.00%       2    4480   \n\n            books  arxiv   stars  watchers  forks  contribs  \nframework                                                    \nTensorFlow    202    201  109576      8334  67551      1642  \nKeras          79     36   33558      1847  12658       719  \nPyTorch        18     42   18716       952   4474       760  \nTheano         17     36    8477       585   2447       328  \nMXNET          32     26   15200      1170   5498       587  \nCNTK            1     13   15106      1368   4029       189  \nFastAI          0      1    7268       432   2647       195  ",
            "text/html": "<div>\n<style scoped>\n    .dataframe tbody tr th:only-of-type {\n        vertical-align: middle;\n    }\n\n    .dataframe tbody tr th {\n        vertical-align: top;\n    }\n\n    .dataframe thead th {\n        text-align: right;\n    }\n</style>\n<table border=\"1\" class=\"dataframe\">\n  <thead>\n    <tr style=\"text-align: right;\">\n      <th></th>\n      <th>indeed</th>\n      <th>monster</th>\n      <th>simply</th>\n      <th>linkedin</th>\n      <th>angel</th>\n      <th>usage</th>\n      <th>search</th>\n      <th>medium</th>\n      <th>books</th>\n      <th>arxiv</th>\n      <th>stars</th>\n      <th>watchers</th>\n      <th>forks</th>\n      <th>contribs</th>\n    </tr>\n    <tr>\n      <th>framework</th>\n      <th></th>\n      <th></th>\n      <th></th>\n      <th></th>\n      <th></th>\n      <th></th>\n      <th></th>\n      <th></th>\n      <th></th>\n      <th></th>\n      <th></th>\n      <th></th>\n      <th></th>\n      <th></th>\n    </tr>\n  </thead>\n  <tbody>\n    <tr>\n      <th>TensorFlow</th>\n      <td>2079</td>\n      <td>1253</td>\n      <td>1582</td>\n      <td>2610</td>\n      <td>552</td>\n      <td>29.90%</td>\n      <td>78</td>\n      <td>45300</td>\n      <td>202</td>\n      <td>201</td>\n      <td>109576</td>\n      <td>8334</td>\n      <td>67551</td>\n      <td>1642</td>\n    </tr>\n    <tr>\n      <th>Keras</th>\n      <td>684</td>\n      <td>364</td>\n      <td>449</td>\n      <td>695</td>\n      <td>177</td>\n      <td>22.20%</td>\n      <td>38</td>\n      <td>48200</td>\n      <td>79</td>\n      <td>36</td>\n      <td>33558</td>\n      <td>1847</td>\n      <td>12658</td>\n      <td>719</td>\n    </tr>\n    <tr>\n      <th>PyTorch</th>\n      <td>486</td>\n      <td>309</td>\n      <td>428</td>\n      <td>665</td>\n      <td>120</td>\n      <td>6.40%</td>\n      <td>30</td>\n      <td>6410</td>\n      <td>18</td>\n      <td>42</td>\n      <td>18716</td>\n      <td>952</td>\n      <td>4474</td>\n      <td>760</td>\n    </tr>\n    <tr>\n      <th>Theano</th>\n      <td>356</td>\n      <td>316</td>\n      <td>279</td>\n      <td>508</td>\n      <td>95</td>\n      <td>4.90%</td>\n      <td>1</td>\n      <td>1670</td>\n      <td>17</td>\n      <td>36</td>\n      <td>8477</td>\n      <td>585</td>\n      <td>2447</td>\n      <td>328</td>\n    </tr>\n    <tr>\n      <th>MXNET</th>\n      <td>266</td>\n      <td>154</td>\n      <td>200</td>\n      <td>298</td>\n      <td>29</td>\n      <td>1.50%</td>\n      <td>3</td>\n      <td>2010</td>\n      <td>32</td>\n      <td>26</td>\n      <td>15200</td>\n      <td>1170</td>\n      <td>5498</td>\n      <td>587</td>\n    </tr>\n    <tr>\n      <th>CNTK</th>\n      <td>126</td>\n      <td>96</td>\n      <td>97</td>\n      <td>160</td>\n      <td>12</td>\n      <td>3.00%</td>\n      <td>1</td>\n      <td>675</td>\n      <td>1</td>\n      <td>13</td>\n      <td>15106</td>\n      <td>1368</td>\n      <td>4029</td>\n      <td>189</td>\n    </tr>\n    <tr>\n      <th>FastAI</th>\n      <td>0</td>\n      <td>0</td>\n      <td>0</td>\n      <td>0</td>\n      <td>0</td>\n      <td>0.00%</td>\n      <td>2</td>\n      <td>4480</td>\n      <td>0</td>\n      <td>1</td>\n      <td>7268</td>\n      <td>432</td>\n      <td>2647</td>\n      <td>195</td>\n    </tr>\n  </tbody>\n</table>\n</div>"
          },
          "metadata": {}
        }
      ]
    },
    {
      "metadata": {
        "_uuid": "e28ebf3e456dd61cc442fe31f812c92b78fedcac"
      },
      "cell_type": "markdown",
      "source": "Cool. We used the read_csv parameters to give us just what we wanted."
    },
    {
      "metadata": {
        "_uuid": "b2c570c88293185e4724b2caba4cd635bf1d0747"
      },
      "cell_type": "markdown",
      "source": "## Basic Data Exploration\nLet's see what the data look like."
    },
    {
      "metadata": {
        "trusted": true,
        "_uuid": "77c7bdd69597287333d3ef931d4d44bf36c64b5c"
      },
      "cell_type": "code",
      "source": "df.info()",
      "execution_count": 7,
      "outputs": [
        {
          "output_type": "stream",
          "text": "<class 'pandas.core.frame.DataFrame'>\nIndex: 7 entries, TensorFlow to FastAI\nData columns (total 14 columns):\nindeed      7 non-null int64\nmonster     7 non-null int64\nsimply      7 non-null int64\nlinkedin    7 non-null int64\nangel       7 non-null int64\nusage       7 non-null object\nsearch      7 non-null int64\nmedium      7 non-null int64\nbooks       7 non-null int64\narxiv       7 non-null int64\nstars       7 non-null int64\nwatchers    7 non-null int64\nforks       7 non-null int64\ncontribs    7 non-null int64\ndtypes: int64(13), object(1)\nmemory usage: 840.0+ bytes\n",
          "name": "stdout"
        }
      ]
    },
    {
      "metadata": {
        "trusted": true,
        "_uuid": "5557480378c71f18796789d5a52824536e3ca9ad"
      },
      "cell_type": "code",
      "source": "df.describe()",
      "execution_count": 8,
      "outputs": [
        {
          "output_type": "execute_result",
          "execution_count": 8,
          "data": {
            "text/plain": "        indeed  monster   simply  linkedin  angel  search    medium  books  \\\ncount     7.00     7.00     7.00      7.00   7.00    7.00      7.00   7.00   \nmean    571.00   356.00   433.57    705.14 140.71   21.86 15,535.00  49.86   \nstd     702.07   417.06   532.11    878.37 192.28   29.15 21,425.92  72.21   \nmin       0.00     0.00     0.00      0.00   0.00    1.00    675.00   0.00   \n25%     196.00   125.00   148.50    229.00  20.50    1.50  1,840.00   9.00   \n50%     356.00   309.00   279.00    508.00  95.00    3.00  4,480.00  18.00   \n75%     585.00   340.00   438.50    680.00 148.50   34.00 25,855.00  55.50   \nmax   2,079.00 1,253.00 1,582.00  2,610.00 552.00   78.00 48,200.00 202.00   \n\n       arxiv      stars  watchers     forks  contribs  \ncount   7.00       7.00      7.00      7.00      7.00  \nmean   50.71  29,700.14  2,098.29 14,186.29    631.43  \nstd    67.82  36,268.80  2,790.54 23,784.03    504.27  \nmin     1.00   7,268.00    432.00  2,447.00    189.00  \n25%    19.50  11,791.50    768.50  3,338.00    261.50  \n50%    36.00  15,200.00  1,170.00  4,474.00    587.00  \n75%    39.00  26,137.00  1,607.50  9,078.00    739.50  \nmax   201.00 109,576.00  8,334.00 67,551.00  1,642.00  ",
            "text/html": "<div>\n<style scoped>\n    .dataframe tbody tr th:only-of-type {\n        vertical-align: middle;\n    }\n\n    .dataframe tbody tr th {\n        vertical-align: top;\n    }\n\n    .dataframe thead th {\n        text-align: right;\n    }\n</style>\n<table border=\"1\" class=\"dataframe\">\n  <thead>\n    <tr style=\"text-align: right;\">\n      <th></th>\n      <th>indeed</th>\n      <th>monster</th>\n      <th>simply</th>\n      <th>linkedin</th>\n      <th>angel</th>\n      <th>search</th>\n      <th>medium</th>\n      <th>books</th>\n      <th>arxiv</th>\n      <th>stars</th>\n      <th>watchers</th>\n      <th>forks</th>\n      <th>contribs</th>\n    </tr>\n  </thead>\n  <tbody>\n    <tr>\n      <th>count</th>\n      <td>7.00</td>\n      <td>7.00</td>\n      <td>7.00</td>\n      <td>7.00</td>\n      <td>7.00</td>\n      <td>7.00</td>\n      <td>7.00</td>\n      <td>7.00</td>\n      <td>7.00</td>\n      <td>7.00</td>\n      <td>7.00</td>\n      <td>7.00</td>\n      <td>7.00</td>\n    </tr>\n    <tr>\n      <th>mean</th>\n      <td>571.00</td>\n      <td>356.00</td>\n      <td>433.57</td>\n      <td>705.14</td>\n      <td>140.71</td>\n      <td>21.86</td>\n      <td>15,535.00</td>\n      <td>49.86</td>\n      <td>50.71</td>\n      <td>29,700.14</td>\n      <td>2,098.29</td>\n      <td>14,186.29</td>\n      <td>631.43</td>\n    </tr>\n    <tr>\n      <th>std</th>\n      <td>702.07</td>\n      <td>417.06</td>\n      <td>532.11</td>\n      <td>878.37</td>\n      <td>192.28</td>\n      <td>29.15</td>\n      <td>21,425.92</td>\n      <td>72.21</td>\n      <td>67.82</td>\n      <td>36,268.80</td>\n      <td>2,790.54</td>\n      <td>23,784.03</td>\n      <td>504.27</td>\n    </tr>\n    <tr>\n      <th>min</th>\n      <td>0.00</td>\n      <td>0.00</td>\n      <td>0.00</td>\n      <td>0.00</td>\n      <td>0.00</td>\n      <td>1.00</td>\n      <td>675.00</td>\n      <td>0.00</td>\n      <td>1.00</td>\n      <td>7,268.00</td>\n      <td>432.00</td>\n      <td>2,447.00</td>\n      <td>189.00</td>\n    </tr>\n    <tr>\n      <th>25%</th>\n      <td>196.00</td>\n      <td>125.00</td>\n      <td>148.50</td>\n      <td>229.00</td>\n      <td>20.50</td>\n      <td>1.50</td>\n      <td>1,840.00</td>\n      <td>9.00</td>\n      <td>19.50</td>\n      <td>11,791.50</td>\n      <td>768.50</td>\n      <td>3,338.00</td>\n      <td>261.50</td>\n    </tr>\n    <tr>\n      <th>50%</th>\n      <td>356.00</td>\n      <td>309.00</td>\n      <td>279.00</td>\n      <td>508.00</td>\n      <td>95.00</td>\n      <td>3.00</td>\n      <td>4,480.00</td>\n      <td>18.00</td>\n      <td>36.00</td>\n      <td>15,200.00</td>\n      <td>1,170.00</td>\n      <td>4,474.00</td>\n      <td>587.00</td>\n    </tr>\n    <tr>\n      <th>75%</th>\n      <td>585.00</td>\n      <td>340.00</td>\n      <td>438.50</td>\n      <td>680.00</td>\n      <td>148.50</td>\n      <td>34.00</td>\n      <td>25,855.00</td>\n      <td>55.50</td>\n      <td>39.00</td>\n      <td>26,137.00</td>\n      <td>1,607.50</td>\n      <td>9,078.00</td>\n      <td>739.50</td>\n    </tr>\n    <tr>\n      <th>max</th>\n      <td>2,079.00</td>\n      <td>1,253.00</td>\n      <td>1,582.00</td>\n      <td>2,610.00</td>\n      <td>552.00</td>\n      <td>78.00</td>\n      <td>48,200.00</td>\n      <td>202.00</td>\n      <td>201.00</td>\n      <td>109,576.00</td>\n      <td>8,334.00</td>\n      <td>67,551.00</td>\n      <td>1,642.00</td>\n    </tr>\n  </tbody>\n</table>\n</div>"
          },
          "metadata": {}
        }
      ]
    },
    {
      "metadata": {
        "_uuid": "d35b0dac3c8e6a8dcef9c0ea6cd921612394ec0c"
      },
      "cell_type": "markdown",
      "source": "Looks like pandas read the usage column as a string because of it's percent sign. Let's make that a decimal."
    },
    {
      "metadata": {
        "trusted": true,
        "_uuid": "148b678b1f7aff56d45741b20726046c859d7ca8"
      },
      "cell_type": "code",
      "source": "df['usage'] = pd.to_numeric(df['usage'].str.strip('%'))\ndf['usage'] = df['usage'].astype(int)\ndf",
      "execution_count": 9,
      "outputs": [
        {
          "output_type": "execute_result",
          "execution_count": 9,
          "data": {
            "text/plain": "            indeed  monster  simply  linkedin  angel  usage  search  medium  \\\nframework                                                                     \nTensorFlow    2079     1253    1582      2610    552     29      78   45300   \nKeras          684      364     449       695    177     22      38   48200   \nPyTorch        486      309     428       665    120      6      30    6410   \nTheano         356      316     279       508     95      4       1    1670   \nMXNET          266      154     200       298     29      1       3    2010   \nCNTK           126       96      97       160     12      3       1     675   \nFastAI           0        0       0         0      0      0       2    4480   \n\n            books  arxiv   stars  watchers  forks  contribs  \nframework                                                    \nTensorFlow    202    201  109576      8334  67551      1642  \nKeras          79     36   33558      1847  12658       719  \nPyTorch        18     42   18716       952   4474       760  \nTheano         17     36    8477       585   2447       328  \nMXNET          32     26   15200      1170   5498       587  \nCNTK            1     13   15106      1368   4029       189  \nFastAI          0      1    7268       432   2647       195  ",
            "text/html": "<div>\n<style scoped>\n    .dataframe tbody tr th:only-of-type {\n        vertical-align: middle;\n    }\n\n    .dataframe tbody tr th {\n        vertical-align: top;\n    }\n\n    .dataframe thead th {\n        text-align: right;\n    }\n</style>\n<table border=\"1\" class=\"dataframe\">\n  <thead>\n    <tr style=\"text-align: right;\">\n      <th></th>\n      <th>indeed</th>\n      <th>monster</th>\n      <th>simply</th>\n      <th>linkedin</th>\n      <th>angel</th>\n      <th>usage</th>\n      <th>search</th>\n      <th>medium</th>\n      <th>books</th>\n      <th>arxiv</th>\n      <th>stars</th>\n      <th>watchers</th>\n      <th>forks</th>\n      <th>contribs</th>\n    </tr>\n    <tr>\n      <th>framework</th>\n      <th></th>\n      <th></th>\n      <th></th>\n      <th></th>\n      <th></th>\n      <th></th>\n      <th></th>\n      <th></th>\n      <th></th>\n      <th></th>\n      <th></th>\n      <th></th>\n      <th></th>\n      <th></th>\n    </tr>\n  </thead>\n  <tbody>\n    <tr>\n      <th>TensorFlow</th>\n      <td>2079</td>\n      <td>1253</td>\n      <td>1582</td>\n      <td>2610</td>\n      <td>552</td>\n      <td>29</td>\n      <td>78</td>\n      <td>45300</td>\n      <td>202</td>\n      <td>201</td>\n      <td>109576</td>\n      <td>8334</td>\n      <td>67551</td>\n      <td>1642</td>\n    </tr>\n    <tr>\n      <th>Keras</th>\n      <td>684</td>\n      <td>364</td>\n      <td>449</td>\n      <td>695</td>\n      <td>177</td>\n      <td>22</td>\n      <td>38</td>\n      <td>48200</td>\n      <td>79</td>\n      <td>36</td>\n      <td>33558</td>\n      <td>1847</td>\n      <td>12658</td>\n      <td>719</td>\n    </tr>\n    <tr>\n      <th>PyTorch</th>\n      <td>486</td>\n      <td>309</td>\n      <td>428</td>\n      <td>665</td>\n      <td>120</td>\n      <td>6</td>\n      <td>30</td>\n      <td>6410</td>\n      <td>18</td>\n      <td>42</td>\n      <td>18716</td>\n      <td>952</td>\n      <td>4474</td>\n      <td>760</td>\n    </tr>\n    <tr>\n      <th>Theano</th>\n      <td>356</td>\n      <td>316</td>\n      <td>279</td>\n      <td>508</td>\n      <td>95</td>\n      <td>4</td>\n      <td>1</td>\n      <td>1670</td>\n      <td>17</td>\n      <td>36</td>\n      <td>8477</td>\n      <td>585</td>\n      <td>2447</td>\n      <td>328</td>\n    </tr>\n    <tr>\n      <th>MXNET</th>\n      <td>266</td>\n      <td>154</td>\n      <td>200</td>\n      <td>298</td>\n      <td>29</td>\n      <td>1</td>\n      <td>3</td>\n      <td>2010</td>\n      <td>32</td>\n      <td>26</td>\n      <td>15200</td>\n      <td>1170</td>\n      <td>5498</td>\n      <td>587</td>\n    </tr>\n    <tr>\n      <th>CNTK</th>\n      <td>126</td>\n      <td>96</td>\n      <td>97</td>\n      <td>160</td>\n      <td>12</td>\n      <td>3</td>\n      <td>1</td>\n      <td>675</td>\n      <td>1</td>\n      <td>13</td>\n      <td>15106</td>\n      <td>1368</td>\n      <td>4029</td>\n      <td>189</td>\n    </tr>\n    <tr>\n      <th>FastAI</th>\n      <td>0</td>\n      <td>0</td>\n      <td>0</td>\n      <td>0</td>\n      <td>0</td>\n      <td>0</td>\n      <td>2</td>\n      <td>4480</td>\n      <td>0</td>\n      <td>1</td>\n      <td>7268</td>\n      <td>432</td>\n      <td>2647</td>\n      <td>195</td>\n    </tr>\n  </tbody>\n</table>\n</div>"
          },
          "metadata": {}
        }
      ]
    },
    {
      "metadata": {
        "trusted": true,
        "_uuid": "85f78e428e45d7ace1460f80f2cac2e82ce58688"
      },
      "cell_type": "code",
      "source": "df.info()",
      "execution_count": 10,
      "outputs": [
        {
          "output_type": "stream",
          "text": "<class 'pandas.core.frame.DataFrame'>\nIndex: 7 entries, TensorFlow to FastAI\nData columns (total 14 columns):\nindeed      7 non-null int64\nmonster     7 non-null int64\nsimply      7 non-null int64\nlinkedin    7 non-null int64\nangel       7 non-null int64\nusage       7 non-null int64\nsearch      7 non-null int64\nmedium      7 non-null int64\nbooks       7 non-null int64\narxiv       7 non-null int64\nstars       7 non-null int64\nwatchers    7 non-null int64\nforks       7 non-null int64\ncontribs    7 non-null int64\ndtypes: int64(14)\nmemory usage: 840.0+ bytes\n",
          "name": "stdout"
        }
      ]
    },
    {
      "metadata": {
        "_uuid": "deb765bae37ab310f1478b6253b6a25146f5d22d"
      },
      "cell_type": "markdown",
      "source": "All ints! Great!"
    },
    {
      "metadata": {
        "_uuid": "52d0441e5dab9b2de7bb0a2c75f3a22b62743adb"
      },
      "cell_type": "markdown",
      "source": "# Plotly\nLet's make interactive plots with plotly for each popularity category."
    },
    {
      "metadata": {
        "_uuid": "21f16d313950450044bd5715fb9e085386c05028"
      },
      "cell_type": "markdown",
      "source": "## Online Job Listings\nI looked at how many times each framework appeared in searches on job listing websites. For more discussion see the Medium Article the accompanies this notebook here."
    },
    {
      "metadata": {
        "trusted": true,
        "_uuid": "16e9eda2dd2be652af28ea8e86ed5edea0fcbb92"
      },
      "cell_type": "code",
      "source": "# sum groupby for the hiring columns\ndf['hiring'] = df['indeed'] + df['monster'] + df['linkedin'] + df['simply'] + df['angel']",
      "execution_count": 11,
      "outputs": []
    },
    {
      "metadata": {
        "trusted": true,
        "_uuid": "b2b3713afedae43b037c82ce845a9285d9e77b82"
      },
      "cell_type": "code",
      "source": "df",
      "execution_count": 12,
      "outputs": [
        {
          "output_type": "execute_result",
          "execution_count": 12,
          "data": {
            "text/plain": "            indeed  monster  simply  linkedin  angel  usage  search  medium  \\\nframework                                                                     \nTensorFlow    2079     1253    1582      2610    552     29      78   45300   \nKeras          684      364     449       695    177     22      38   48200   \nPyTorch        486      309     428       665    120      6      30    6410   \nTheano         356      316     279       508     95      4       1    1670   \nMXNET          266      154     200       298     29      1       3    2010   \nCNTK           126       96      97       160     12      3       1     675   \nFastAI           0        0       0         0      0      0       2    4480   \n\n            books  arxiv   stars  watchers  forks  contribs  hiring  \nframework                                                            \nTensorFlow    202    201  109576      8334  67551      1642    8076  \nKeras          79     36   33558      1847  12658       719    2369  \nPyTorch        18     42   18716       952   4474       760    2008  \nTheano         17     36    8477       585   2447       328    1554  \nMXNET          32     26   15200      1170   5498       587     947  \nCNTK            1     13   15106      1368   4029       189     491  \nFastAI          0      1    7268       432   2647       195       0  ",
            "text/html": "<div>\n<style scoped>\n    .dataframe tbody tr th:only-of-type {\n        vertical-align: middle;\n    }\n\n    .dataframe tbody tr th {\n        vertical-align: top;\n    }\n\n    .dataframe thead th {\n        text-align: right;\n    }\n</style>\n<table border=\"1\" class=\"dataframe\">\n  <thead>\n    <tr style=\"text-align: right;\">\n      <th></th>\n      <th>indeed</th>\n      <th>monster</th>\n      <th>simply</th>\n      <th>linkedin</th>\n      <th>angel</th>\n      <th>usage</th>\n      <th>search</th>\n      <th>medium</th>\n      <th>books</th>\n      <th>arxiv</th>\n      <th>stars</th>\n      <th>watchers</th>\n      <th>forks</th>\n      <th>contribs</th>\n      <th>hiring</th>\n    </tr>\n    <tr>\n      <th>framework</th>\n      <th></th>\n      <th></th>\n      <th></th>\n      <th></th>\n      <th></th>\n      <th></th>\n      <th></th>\n      <th></th>\n      <th></th>\n      <th></th>\n      <th></th>\n      <th></th>\n      <th></th>\n      <th></th>\n      <th></th>\n    </tr>\n  </thead>\n  <tbody>\n    <tr>\n      <th>TensorFlow</th>\n      <td>2079</td>\n      <td>1253</td>\n      <td>1582</td>\n      <td>2610</td>\n      <td>552</td>\n      <td>29</td>\n      <td>78</td>\n      <td>45300</td>\n      <td>202</td>\n      <td>201</td>\n      <td>109576</td>\n      <td>8334</td>\n      <td>67551</td>\n      <td>1642</td>\n      <td>8076</td>\n    </tr>\n    <tr>\n      <th>Keras</th>\n      <td>684</td>\n      <td>364</td>\n      <td>449</td>\n      <td>695</td>\n      <td>177</td>\n      <td>22</td>\n      <td>38</td>\n      <td>48200</td>\n      <td>79</td>\n      <td>36</td>\n      <td>33558</td>\n      <td>1847</td>\n      <td>12658</td>\n      <td>719</td>\n      <td>2369</td>\n    </tr>\n    <tr>\n      <th>PyTorch</th>\n      <td>486</td>\n      <td>309</td>\n      <td>428</td>\n      <td>665</td>\n      <td>120</td>\n      <td>6</td>\n      <td>30</td>\n      <td>6410</td>\n      <td>18</td>\n      <td>42</td>\n      <td>18716</td>\n      <td>952</td>\n      <td>4474</td>\n      <td>760</td>\n      <td>2008</td>\n    </tr>\n    <tr>\n      <th>Theano</th>\n      <td>356</td>\n      <td>316</td>\n      <td>279</td>\n      <td>508</td>\n      <td>95</td>\n      <td>4</td>\n      <td>1</td>\n      <td>1670</td>\n      <td>17</td>\n      <td>36</td>\n      <td>8477</td>\n      <td>585</td>\n      <td>2447</td>\n      <td>328</td>\n      <td>1554</td>\n    </tr>\n    <tr>\n      <th>MXNET</th>\n      <td>266</td>\n      <td>154</td>\n      <td>200</td>\n      <td>298</td>\n      <td>29</td>\n      <td>1</td>\n      <td>3</td>\n      <td>2010</td>\n      <td>32</td>\n      <td>26</td>\n      <td>15200</td>\n      <td>1170</td>\n      <td>5498</td>\n      <td>587</td>\n      <td>947</td>\n    </tr>\n    <tr>\n      <th>CNTK</th>\n      <td>126</td>\n      <td>96</td>\n      <td>97</td>\n      <td>160</td>\n      <td>12</td>\n      <td>3</td>\n      <td>1</td>\n      <td>675</td>\n      <td>1</td>\n      <td>13</td>\n      <td>15106</td>\n      <td>1368</td>\n      <td>4029</td>\n      <td>189</td>\n      <td>491</td>\n    </tr>\n    <tr>\n      <th>FastAI</th>\n      <td>0</td>\n      <td>0</td>\n      <td>0</td>\n      <td>0</td>\n      <td>0</td>\n      <td>0</td>\n      <td>2</td>\n      <td>4480</td>\n      <td>0</td>\n      <td>1</td>\n      <td>7268</td>\n      <td>432</td>\n      <td>2647</td>\n      <td>195</td>\n      <td>0</td>\n    </tr>\n  </tbody>\n</table>\n</div>"
          },
          "metadata": {}
        }
      ]
    },
    {
      "metadata": {
        "trusted": true,
        "_uuid": "a32c444f9c19dcd926b17c57ac42b9681682926f"
      },
      "cell_type": "code",
      "source": "data = [go.Bar(\n    x=df.index,\n    y=df.hiring,\n    marker=dict(color=cs),\n    )\n]\n\nlayout = {'title': 'Online Job Listings',\n          'xaxis': {'title': 'Framework'},\n          'yaxis': {'title': \"Quantity\"},\n         }\n\nfig = go.Figure(data=data, layout=layout)\npy.iplot(fig)",
      "execution_count": 13,
      "outputs": [
        {
          "output_type": "display_data",
          "data": {
            "application/vnd.plotly.v1+json": {
              "data": [
                {
                  "marker": {
                    "color": [
                      "rgb(27,158,119)",
                      "rgb(217,95,2)",
                      "rgb(117,112,179)",
                      "rgb(231,41,138)",
                      "rgb(102,166,30)",
                      "rgb(230,171,2)",
                      "rgb(166,118,29)"
                    ]
                  },
                  "x": [
                    "TensorFlow",
                    "Keras",
                    "PyTorch",
                    "Theano",
                    "MXNET",
                    "CNTK",
                    "FastAI"
                  ],
                  "y": [
                    8076,
                    2369,
                    2008,
                    1554,
                    947,
                    491,
                    0
                  ],
                  "type": "bar",
                  "uid": "78244fd4-bc6b-11e8-933f-0242ac130008"
                }
              ],
              "layout": {
                "title": "Online Job Listings",
                "xaxis": {
                  "title": "Framework"
                },
                "yaxis": {
                  "title": "Quantity"
                }
              }
            },
            "text/html": "<div id=\"7a2be392-e65f-433b-a083-3f7e8328d29c\" style=\"height: 525px; width: 100%;\" class=\"plotly-graph-div\"></div><script type=\"text/javascript\">require([\"plotly\"], function(Plotly) { window.PLOTLYENV=window.PLOTLYENV || {};window.PLOTLYENV.BASE_URL=\"https://plot.ly\";Plotly.newPlot(\"7a2be392-e65f-433b-a083-3f7e8328d29c\", [{\"marker\": {\"color\": [\"rgb(27,158,119)\", \"rgb(217,95,2)\", \"rgb(117,112,179)\", \"rgb(231,41,138)\", \"rgb(102,166,30)\", \"rgb(230,171,2)\", \"rgb(166,118,29)\"]}, \"x\": [\"TensorFlow\", \"Keras\", \"PyTorch\", \"Theano\", \"MXNET\", \"CNTK\", \"FastAI\"], \"y\": [8076, 2369, 2008, 1554, 947, 491, 0], \"type\": \"bar\", \"uid\": \"78244fd4-bc6b-11e8-933f-0242ac130008\"}], {\"title\": \"Online Job Listings\", \"xaxis\": {\"title\": \"Framework\"}, \"yaxis\": {\"title\": \"Quantity\"}}, {\"showLink\": true, \"linkText\": \"Export to plot.ly\"})});</script>",
            "text/vnd.plotly.v1+html": "<div id=\"7a2be392-e65f-433b-a083-3f7e8328d29c\" style=\"height: 525px; width: 100%;\" class=\"plotly-graph-div\"></div><script type=\"text/javascript\">require([\"plotly\"], function(Plotly) { window.PLOTLYENV=window.PLOTLYENV || {};window.PLOTLYENV.BASE_URL=\"https://plot.ly\";Plotly.newPlot(\"7a2be392-e65f-433b-a083-3f7e8328d29c\", [{\"marker\": {\"color\": [\"rgb(27,158,119)\", \"rgb(217,95,2)\", \"rgb(117,112,179)\", \"rgb(231,41,138)\", \"rgb(102,166,30)\", \"rgb(230,171,2)\", \"rgb(166,118,29)\"]}, \"x\": [\"TensorFlow\", \"Keras\", \"PyTorch\", \"Theano\", \"MXNET\", \"CNTK\", \"FastAI\"], \"y\": [8076, 2369, 2008, 1554, 947, 491, 0], \"type\": \"bar\", \"uid\": \"78244fd4-bc6b-11e8-933f-0242ac130008\"}], {\"title\": \"Online Job Listings\", \"xaxis\": {\"title\": \"Framework\"}, \"yaxis\": {\"title\": \"Quantity\"}}, {\"showLink\": true, \"linkText\": \"Export to plot.ly\"})});</script>"
          },
          "metadata": {}
        }
      ]
    },
    {
      "metadata": {
        "_uuid": "99b617b23e56f5d4e853a2b47557b817739d43bd"
      },
      "cell_type": "markdown",
      "source": "That's just the aggregate listings. Let's plot the job listing mentions for each website in a stacked bar chart. This will take multiple traces."
    },
    {
      "metadata": {
        "trusted": true,
        "_uuid": "474b0ce5c9f1733190369f1b5e52360ebd941740"
      },
      "cell_type": "code",
      "source": "y_indeed = df['indeed']\ny_monster = df['monster']\ny_simply = df['simply']\ny_linkedin = df['linkedin']\ny_angel = df['angel']",
      "execution_count": 14,
      "outputs": []
    },
    {
      "metadata": {
        "trusted": true,
        "_uuid": "489ab9534acbd314d2ed9d85fca1db6b372cd673"
      },
      "cell_type": "code",
      "source": "indeed = go.Bar(x=df.index, y=y_indeed, name = 'Indeed')\nsimply = go.Bar(x=df.index, y=y_simply, name='Simply Hired')\nmonster = go.Bar(x=df.index, y=y_monster, name='Monster')\nlinked = go.Bar(x=df.index, y=y_linkedin, name='LinkedIn')\nangel = go.Bar(x=df.index, y=y_angel, name='Angel List')\n\ndata = [linked, indeed, simply, monster, angel]\nlayout = go.Layout(\n    barmode='stack',\n    title='Online Job Listings',\n    xaxis={'title': 'Framework'},\n    yaxis={'title': 'Mentions', 'separatethousands': True},\n    colorway=cs,\n)\n\nfig = go.Figure(data = data, layout = layout)\npy.iplot(fig)",
      "execution_count": 15,
      "outputs": [
        {
          "output_type": "display_data",
          "data": {
            "application/vnd.plotly.v1+json": {
              "data": [
                {
                  "name": "LinkedIn",
                  "x": [
                    "TensorFlow",
                    "Keras",
                    "PyTorch",
                    "Theano",
                    "MXNET",
                    "CNTK",
                    "FastAI"
                  ],
                  "y": [
                    2610,
                    695,
                    665,
                    508,
                    298,
                    160,
                    0
                  ],
                  "type": "bar",
                  "uid": "78b19510-bc6b-11e8-933f-0242ac130008"
                },
                {
                  "name": "Indeed",
                  "x": [
                    "TensorFlow",
                    "Keras",
                    "PyTorch",
                    "Theano",
                    "MXNET",
                    "CNTK",
                    "FastAI"
                  ],
                  "y": [
                    2079,
                    684,
                    486,
                    356,
                    266,
                    126,
                    0
                  ],
                  "type": "bar",
                  "uid": "78b198a8-bc6b-11e8-933f-0242ac130008"
                },
                {
                  "name": "Simply Hired",
                  "x": [
                    "TensorFlow",
                    "Keras",
                    "PyTorch",
                    "Theano",
                    "MXNET",
                    "CNTK",
                    "FastAI"
                  ],
                  "y": [
                    1582,
                    449,
                    428,
                    279,
                    200,
                    97,
                    0
                  ],
                  "type": "bar",
                  "uid": "78b199c0-bc6b-11e8-933f-0242ac130008"
                },
                {
                  "name": "Monster",
                  "x": [
                    "TensorFlow",
                    "Keras",
                    "PyTorch",
                    "Theano",
                    "MXNET",
                    "CNTK",
                    "FastAI"
                  ],
                  "y": [
                    1253,
                    364,
                    309,
                    316,
                    154,
                    96,
                    0
                  ],
                  "type": "bar",
                  "uid": "78b19a9c-bc6b-11e8-933f-0242ac130008"
                },
                {
                  "name": "Angel List",
                  "x": [
                    "TensorFlow",
                    "Keras",
                    "PyTorch",
                    "Theano",
                    "MXNET",
                    "CNTK",
                    "FastAI"
                  ],
                  "y": [
                    552,
                    177,
                    120,
                    95,
                    29,
                    12,
                    0
                  ],
                  "type": "bar",
                  "uid": "78b19b78-bc6b-11e8-933f-0242ac130008"
                }
              ],
              "layout": {
                "barmode": "stack",
                "colorway": [
                  "rgb(27,158,119)",
                  "rgb(217,95,2)",
                  "rgb(117,112,179)",
                  "rgb(231,41,138)",
                  "rgb(102,166,30)",
                  "rgb(230,171,2)",
                  "rgb(166,118,29)"
                ],
                "title": "Online Job Listings",
                "xaxis": {
                  "title": "Framework"
                },
                "yaxis": {
                  "separatethousands": true,
                  "title": "Mentions"
                }
              }
            },
            "text/html": "<div id=\"a1da3d70-417d-4b1b-901e-8180ad495aa3\" style=\"height: 525px; width: 100%;\" class=\"plotly-graph-div\"></div><script type=\"text/javascript\">require([\"plotly\"], function(Plotly) { window.PLOTLYENV=window.PLOTLYENV || {};window.PLOTLYENV.BASE_URL=\"https://plot.ly\";Plotly.newPlot(\"a1da3d70-417d-4b1b-901e-8180ad495aa3\", [{\"name\": \"LinkedIn\", \"x\": [\"TensorFlow\", \"Keras\", \"PyTorch\", \"Theano\", \"MXNET\", \"CNTK\", \"FastAI\"], \"y\": [2610, 695, 665, 508, 298, 160, 0], \"type\": \"bar\", \"uid\": \"78b19510-bc6b-11e8-933f-0242ac130008\"}, {\"name\": \"Indeed\", \"x\": [\"TensorFlow\", \"Keras\", \"PyTorch\", \"Theano\", \"MXNET\", \"CNTK\", \"FastAI\"], \"y\": [2079, 684, 486, 356, 266, 126, 0], \"type\": \"bar\", \"uid\": \"78b198a8-bc6b-11e8-933f-0242ac130008\"}, {\"name\": \"Simply Hired\", \"x\": [\"TensorFlow\", \"Keras\", \"PyTorch\", \"Theano\", \"MXNET\", \"CNTK\", \"FastAI\"], \"y\": [1582, 449, 428, 279, 200, 97, 0], \"type\": \"bar\", \"uid\": \"78b199c0-bc6b-11e8-933f-0242ac130008\"}, {\"name\": \"Monster\", \"x\": [\"TensorFlow\", \"Keras\", \"PyTorch\", \"Theano\", \"MXNET\", \"CNTK\", \"FastAI\"], \"y\": [1253, 364, 309, 316, 154, 96, 0], \"type\": \"bar\", \"uid\": \"78b19a9c-bc6b-11e8-933f-0242ac130008\"}, {\"name\": \"Angel List\", \"x\": [\"TensorFlow\", \"Keras\", \"PyTorch\", \"Theano\", \"MXNET\", \"CNTK\", \"FastAI\"], \"y\": [552, 177, 120, 95, 29, 12, 0], \"type\": \"bar\", \"uid\": \"78b19b78-bc6b-11e8-933f-0242ac130008\"}], {\"barmode\": \"stack\", \"colorway\": [\"rgb(27,158,119)\", \"rgb(217,95,2)\", \"rgb(117,112,179)\", \"rgb(231,41,138)\", \"rgb(102,166,30)\", \"rgb(230,171,2)\", \"rgb(166,118,29)\"], \"title\": \"Online Job Listings\", \"xaxis\": {\"title\": \"Framework\"}, \"yaxis\": {\"separatethousands\": true, \"title\": \"Mentions\"}}, {\"showLink\": true, \"linkText\": \"Export to plot.ly\"})});</script>",
            "text/vnd.plotly.v1+html": "<div id=\"a1da3d70-417d-4b1b-901e-8180ad495aa3\" style=\"height: 525px; width: 100%;\" class=\"plotly-graph-div\"></div><script type=\"text/javascript\">require([\"plotly\"], function(Plotly) { window.PLOTLYENV=window.PLOTLYENV || {};window.PLOTLYENV.BASE_URL=\"https://plot.ly\";Plotly.newPlot(\"a1da3d70-417d-4b1b-901e-8180ad495aa3\", [{\"name\": \"LinkedIn\", \"x\": [\"TensorFlow\", \"Keras\", \"PyTorch\", \"Theano\", \"MXNET\", \"CNTK\", \"FastAI\"], \"y\": [2610, 695, 665, 508, 298, 160, 0], \"type\": \"bar\", \"uid\": \"78b19510-bc6b-11e8-933f-0242ac130008\"}, {\"name\": \"Indeed\", \"x\": [\"TensorFlow\", \"Keras\", \"PyTorch\", \"Theano\", \"MXNET\", \"CNTK\", \"FastAI\"], \"y\": [2079, 684, 486, 356, 266, 126, 0], \"type\": \"bar\", \"uid\": \"78b198a8-bc6b-11e8-933f-0242ac130008\"}, {\"name\": \"Simply Hired\", \"x\": [\"TensorFlow\", \"Keras\", \"PyTorch\", \"Theano\", \"MXNET\", \"CNTK\", \"FastAI\"], \"y\": [1582, 449, 428, 279, 200, 97, 0], \"type\": \"bar\", \"uid\": \"78b199c0-bc6b-11e8-933f-0242ac130008\"}, {\"name\": \"Monster\", \"x\": [\"TensorFlow\", \"Keras\", \"PyTorch\", \"Theano\", \"MXNET\", \"CNTK\", \"FastAI\"], \"y\": [1253, 364, 309, 316, 154, 96, 0], \"type\": \"bar\", \"uid\": \"78b19a9c-bc6b-11e8-933f-0242ac130008\"}, {\"name\": \"Angel List\", \"x\": [\"TensorFlow\", \"Keras\", \"PyTorch\", \"Theano\", \"MXNET\", \"CNTK\", \"FastAI\"], \"y\": [552, 177, 120, 95, 29, 12, 0], \"type\": \"bar\", \"uid\": \"78b19b78-bc6b-11e8-933f-0242ac130008\"}], {\"barmode\": \"stack\", \"colorway\": [\"rgb(27,158,119)\", \"rgb(217,95,2)\", \"rgb(117,112,179)\", \"rgb(231,41,138)\", \"rgb(102,166,30)\", \"rgb(230,171,2)\", \"rgb(166,118,29)\"], \"title\": \"Online Job Listings\", \"xaxis\": {\"title\": \"Framework\"}, \"yaxis\": {\"separatethousands\": true, \"title\": \"Mentions\"}}, {\"showLink\": true, \"linkText\": \"Export to plot.ly\"})});</script>"
          },
          "metadata": {}
        }
      ]
    },
    {
      "metadata": {
        "_uuid": "60e0d97cb36a3b7535c9a29b8e746a7e755065f5"
      },
      "cell_type": "markdown",
      "source": "Cool. Now let's see how this data looks with grouped bars instead of stacked bars by changing the barmode to \"group\"."
    },
    {
      "metadata": {
        "trusted": true,
        "_uuid": "5a02824fc45a9eb5244f79294cf6c869932a0ae5"
      },
      "cell_type": "code",
      "source": "indeed = go.Bar(x=df.index, y=y_indeed, name = \"Indeed\")\nsimply = go.Bar(x=df.index, y=y_simply, name=\"Simply Hired\")\nmonster = go.Bar(x=df.index, y=y_monster, name=\"Monster\")\nlinked = go.Bar(x=df.index, y=y_linkedin, name=\"LinkedIn\")\nangel = go.Bar(x=df.index, y=y_angel, name='Angel List')\n\ndata = [linked, indeed, simply, monster, angel]\nlayout = go.Layout(\n    barmode='group',\n    title=\"Online Job Listings\",\n    xaxis={'title': 'Framework'},\n    yaxis={'title': \"Listings\", 'separatethousands': True,\n    }\n)\n\nfig = go.Figure(data=data, layout=layout)\npy.iplot(fig)",
      "execution_count": 16,
      "outputs": [
        {
          "output_type": "display_data",
          "data": {
            "application/vnd.plotly.v1+json": {
              "data": [
                {
                  "name": "LinkedIn",
                  "x": [
                    "TensorFlow",
                    "Keras",
                    "PyTorch",
                    "Theano",
                    "MXNET",
                    "CNTK",
                    "FastAI"
                  ],
                  "y": [
                    2610,
                    695,
                    665,
                    508,
                    298,
                    160,
                    0
                  ],
                  "type": "bar",
                  "uid": "78c3bf88-bc6b-11e8-933f-0242ac130008"
                },
                {
                  "name": "Indeed",
                  "x": [
                    "TensorFlow",
                    "Keras",
                    "PyTorch",
                    "Theano",
                    "MXNET",
                    "CNTK",
                    "FastAI"
                  ],
                  "y": [
                    2079,
                    684,
                    486,
                    356,
                    266,
                    126,
                    0
                  ],
                  "type": "bar",
                  "uid": "78c3cbfe-bc6b-11e8-933f-0242ac130008"
                },
                {
                  "name": "Simply Hired",
                  "x": [
                    "TensorFlow",
                    "Keras",
                    "PyTorch",
                    "Theano",
                    "MXNET",
                    "CNTK",
                    "FastAI"
                  ],
                  "y": [
                    1582,
                    449,
                    428,
                    279,
                    200,
                    97,
                    0
                  ],
                  "type": "bar",
                  "uid": "78c3cd16-bc6b-11e8-933f-0242ac130008"
                },
                {
                  "name": "Monster",
                  "x": [
                    "TensorFlow",
                    "Keras",
                    "PyTorch",
                    "Theano",
                    "MXNET",
                    "CNTK",
                    "FastAI"
                  ],
                  "y": [
                    1253,
                    364,
                    309,
                    316,
                    154,
                    96,
                    0
                  ],
                  "type": "bar",
                  "uid": "78c3ce10-bc6b-11e8-933f-0242ac130008"
                },
                {
                  "name": "Angel List",
                  "x": [
                    "TensorFlow",
                    "Keras",
                    "PyTorch",
                    "Theano",
                    "MXNET",
                    "CNTK",
                    "FastAI"
                  ],
                  "y": [
                    552,
                    177,
                    120,
                    95,
                    29,
                    12,
                    0
                  ],
                  "type": "bar",
                  "uid": "78c3cee2-bc6b-11e8-933f-0242ac130008"
                }
              ],
              "layout": {
                "barmode": "group",
                "title": "Online Job Listings",
                "xaxis": {
                  "title": "Framework"
                },
                "yaxis": {
                  "separatethousands": true,
                  "title": "Listings"
                }
              }
            },
            "text/html": "<div id=\"bb7b7493-42c7-4727-a4a9-eecd68c3d4c3\" style=\"height: 525px; width: 100%;\" class=\"plotly-graph-div\"></div><script type=\"text/javascript\">require([\"plotly\"], function(Plotly) { window.PLOTLYENV=window.PLOTLYENV || {};window.PLOTLYENV.BASE_URL=\"https://plot.ly\";Plotly.newPlot(\"bb7b7493-42c7-4727-a4a9-eecd68c3d4c3\", [{\"name\": \"LinkedIn\", \"x\": [\"TensorFlow\", \"Keras\", \"PyTorch\", \"Theano\", \"MXNET\", \"CNTK\", \"FastAI\"], \"y\": [2610, 695, 665, 508, 298, 160, 0], \"type\": \"bar\", \"uid\": \"78c3bf88-bc6b-11e8-933f-0242ac130008\"}, {\"name\": \"Indeed\", \"x\": [\"TensorFlow\", \"Keras\", \"PyTorch\", \"Theano\", \"MXNET\", \"CNTK\", \"FastAI\"], \"y\": [2079, 684, 486, 356, 266, 126, 0], \"type\": \"bar\", \"uid\": \"78c3cbfe-bc6b-11e8-933f-0242ac130008\"}, {\"name\": \"Simply Hired\", \"x\": [\"TensorFlow\", \"Keras\", \"PyTorch\", \"Theano\", \"MXNET\", \"CNTK\", \"FastAI\"], \"y\": [1582, 449, 428, 279, 200, 97, 0], \"type\": \"bar\", \"uid\": \"78c3cd16-bc6b-11e8-933f-0242ac130008\"}, {\"name\": \"Monster\", \"x\": [\"TensorFlow\", \"Keras\", \"PyTorch\", \"Theano\", \"MXNET\", \"CNTK\", \"FastAI\"], \"y\": [1253, 364, 309, 316, 154, 96, 0], \"type\": \"bar\", \"uid\": \"78c3ce10-bc6b-11e8-933f-0242ac130008\"}, {\"name\": \"Angel List\", \"x\": [\"TensorFlow\", \"Keras\", \"PyTorch\", \"Theano\", \"MXNET\", \"CNTK\", \"FastAI\"], \"y\": [552, 177, 120, 95, 29, 12, 0], \"type\": \"bar\", \"uid\": \"78c3cee2-bc6b-11e8-933f-0242ac130008\"}], {\"barmode\": \"group\", \"title\": \"Online Job Listings\", \"xaxis\": {\"title\": \"Framework\"}, \"yaxis\": {\"separatethousands\": true, \"title\": \"Listings\"}}, {\"showLink\": true, \"linkText\": \"Export to plot.ly\"})});</script>",
            "text/vnd.plotly.v1+html": "<div id=\"bb7b7493-42c7-4727-a4a9-eecd68c3d4c3\" style=\"height: 525px; width: 100%;\" class=\"plotly-graph-div\"></div><script type=\"text/javascript\">require([\"plotly\"], function(Plotly) { window.PLOTLYENV=window.PLOTLYENV || {};window.PLOTLYENV.BASE_URL=\"https://plot.ly\";Plotly.newPlot(\"bb7b7493-42c7-4727-a4a9-eecd68c3d4c3\", [{\"name\": \"LinkedIn\", \"x\": [\"TensorFlow\", \"Keras\", \"PyTorch\", \"Theano\", \"MXNET\", \"CNTK\", \"FastAI\"], \"y\": [2610, 695, 665, 508, 298, 160, 0], \"type\": \"bar\", \"uid\": \"78c3bf88-bc6b-11e8-933f-0242ac130008\"}, {\"name\": \"Indeed\", \"x\": [\"TensorFlow\", \"Keras\", \"PyTorch\", \"Theano\", \"MXNET\", \"CNTK\", \"FastAI\"], \"y\": [2079, 684, 486, 356, 266, 126, 0], \"type\": \"bar\", \"uid\": \"78c3cbfe-bc6b-11e8-933f-0242ac130008\"}, {\"name\": \"Simply Hired\", \"x\": [\"TensorFlow\", \"Keras\", \"PyTorch\", \"Theano\", \"MXNET\", \"CNTK\", \"FastAI\"], \"y\": [1582, 449, 428, 279, 200, 97, 0], \"type\": \"bar\", \"uid\": \"78c3cd16-bc6b-11e8-933f-0242ac130008\"}, {\"name\": \"Monster\", \"x\": [\"TensorFlow\", \"Keras\", \"PyTorch\", \"Theano\", \"MXNET\", \"CNTK\", \"FastAI\"], \"y\": [1253, 364, 309, 316, 154, 96, 0], \"type\": \"bar\", \"uid\": \"78c3ce10-bc6b-11e8-933f-0242ac130008\"}, {\"name\": \"Angel List\", \"x\": [\"TensorFlow\", \"Keras\", \"PyTorch\", \"Theano\", \"MXNET\", \"CNTK\", \"FastAI\"], \"y\": [552, 177, 120, 95, 29, 12, 0], \"type\": \"bar\", \"uid\": \"78c3cee2-bc6b-11e8-933f-0242ac130008\"}], {\"barmode\": \"group\", \"title\": \"Online Job Listings\", \"xaxis\": {\"title\": \"Framework\"}, \"yaxis\": {\"separatethousands\": true, \"title\": \"Listings\"}}, {\"showLink\": true, \"linkText\": \"Export to plot.ly\"})});</script>"
          },
          "metadata": {}
        }
      ]
    },
    {
      "metadata": {
        "_uuid": "5b6b9a752c28bff6a4f854b56a837da6a6c71838"
      },
      "cell_type": "markdown",
      "source": "## KDnuggets Usage Survey\nLet's look at usage as reported in KDnuggets 2018 survey."
    },
    {
      "metadata": {
        "trusted": true,
        "_uuid": "4192746d4ecfbf4e8b99141e63ac015f3260f9a7"
      },
      "cell_type": "code",
      "source": "# Make sure you have colorlover imported as cl for color scale\ndf['usage'] = df['usage'] / 100",
      "execution_count": 17,
      "outputs": []
    },
    {
      "metadata": {
        "_uuid": "d9fcef25d82c5bf6a66a43fdad901e43aff8d8d1"
      },
      "cell_type": "markdown",
      "source": "## Google Search Volume"
    },
    {
      "metadata": {
        "trusted": true,
        "_uuid": "fd8ab68d6f03a9c70807cdc97a0bea407a5783c9"
      },
      "cell_type": "code",
      "source": "data = [\n    go.Bar(\n        x=df.index, \n        y=df['usage'],\n        marker=dict(color=cs)  \n    )\n]\n    \nlayout = {\n    'title': 'KDnuggets Usage Survey',\n    'xaxis': {'title': 'Framework'},\n    'yaxis': {'title': \"% Respondents Used in Past Year\", 'tickformat': '.0%'},\n}\n\nfig = go.Figure(data=data, layout=layout)\npy.iplot(fig)",
      "execution_count": 18,
      "outputs": [
        {
          "output_type": "display_data",
          "data": {
            "application/vnd.plotly.v1+json": {
              "data": [
                {
                  "marker": {
                    "color": [
                      "rgb(27,158,119)",
                      "rgb(217,95,2)",
                      "rgb(117,112,179)",
                      "rgb(231,41,138)",
                      "rgb(102,166,30)",
                      "rgb(230,171,2)",
                      "rgb(166,118,29)"
                    ]
                  },
                  "x": [
                    "TensorFlow",
                    "Keras",
                    "PyTorch",
                    "Theano",
                    "MXNET",
                    "CNTK",
                    "FastAI"
                  ],
                  "y": [
                    0.29,
                    0.22,
                    0.06,
                    0.04,
                    0.01,
                    0.03,
                    0
                  ],
                  "type": "bar",
                  "uid": "78d7a548-bc6b-11e8-933f-0242ac130008"
                }
              ],
              "layout": {
                "title": "KDnuggets Usage Survey",
                "xaxis": {
                  "title": "Framework"
                },
                "yaxis": {
                  "tickformat": ".0%",
                  "title": "% Respondents Used in Past Year"
                }
              }
            },
            "text/html": "<div id=\"16503ca3-fd29-4964-a75b-6efd2aa46ed5\" style=\"height: 525px; width: 100%;\" class=\"plotly-graph-div\"></div><script type=\"text/javascript\">require([\"plotly\"], function(Plotly) { window.PLOTLYENV=window.PLOTLYENV || {};window.PLOTLYENV.BASE_URL=\"https://plot.ly\";Plotly.newPlot(\"16503ca3-fd29-4964-a75b-6efd2aa46ed5\", [{\"marker\": {\"color\": [\"rgb(27,158,119)\", \"rgb(217,95,2)\", \"rgb(117,112,179)\", \"rgb(231,41,138)\", \"rgb(102,166,30)\", \"rgb(230,171,2)\", \"rgb(166,118,29)\"]}, \"x\": [\"TensorFlow\", \"Keras\", \"PyTorch\", \"Theano\", \"MXNET\", \"CNTK\", \"FastAI\"], \"y\": [0.29, 0.22, 0.06, 0.04, 0.01, 0.03, 0.0], \"type\": \"bar\", \"uid\": \"78d7a548-bc6b-11e8-933f-0242ac130008\"}], {\"title\": \"KDnuggets Usage Survey\", \"xaxis\": {\"title\": \"Framework\"}, \"yaxis\": {\"tickformat\": \".0%\", \"title\": \"% Respondents Used in Past Year\"}}, {\"showLink\": true, \"linkText\": \"Export to plot.ly\"})});</script>",
            "text/vnd.plotly.v1+html": "<div id=\"16503ca3-fd29-4964-a75b-6efd2aa46ed5\" style=\"height: 525px; width: 100%;\" class=\"plotly-graph-div\"></div><script type=\"text/javascript\">require([\"plotly\"], function(Plotly) { window.PLOTLYENV=window.PLOTLYENV || {};window.PLOTLYENV.BASE_URL=\"https://plot.ly\";Plotly.newPlot(\"16503ca3-fd29-4964-a75b-6efd2aa46ed5\", [{\"marker\": {\"color\": [\"rgb(27,158,119)\", \"rgb(217,95,2)\", \"rgb(117,112,179)\", \"rgb(231,41,138)\", \"rgb(102,166,30)\", \"rgb(230,171,2)\", \"rgb(166,118,29)\"]}, \"x\": [\"TensorFlow\", \"Keras\", \"PyTorch\", \"Theano\", \"MXNET\", \"CNTK\", \"FastAI\"], \"y\": [0.29, 0.22, 0.06, 0.04, 0.01, 0.03, 0.0], \"type\": \"bar\", \"uid\": \"78d7a548-bc6b-11e8-933f-0242ac130008\"}], {\"title\": \"KDnuggets Usage Survey\", \"xaxis\": {\"title\": \"Framework\"}, \"yaxis\": {\"tickformat\": \".0%\", \"title\": \"% Respondents Used in Past Year\"}}, {\"showLink\": true, \"linkText\": \"Export to plot.ly\"})});</script>"
          },
          "metadata": {}
        }
      ]
    },
    {
      "metadata": {
        "trusted": true,
        "_uuid": "a147da72b159c2b0f2b708af3692932d6408edae"
      },
      "cell_type": "code",
      "source": "data = [\n    go.Bar(\n        x = df.index, \n        y = df['search'],\n        marker = dict(color=cs),  \n    )\n]\n    \nlayout = {\n    'title': 'Google Search Volume',\n    'xaxis': {'title': 'Framework'},\n    'yaxis': {'title': \"Relative Search Volume\"},\n}\n\nfig = go.Figure(data=data, layout=layout)\npy.iplot(fig)",
      "execution_count": 19,
      "outputs": [
        {
          "output_type": "display_data",
          "data": {
            "application/vnd.plotly.v1+json": {
              "data": [
                {
                  "marker": {
                    "color": [
                      "rgb(27,158,119)",
                      "rgb(217,95,2)",
                      "rgb(117,112,179)",
                      "rgb(231,41,138)",
                      "rgb(102,166,30)",
                      "rgb(230,171,2)",
                      "rgb(166,118,29)"
                    ]
                  },
                  "x": [
                    "TensorFlow",
                    "Keras",
                    "PyTorch",
                    "Theano",
                    "MXNET",
                    "CNTK",
                    "FastAI"
                  ],
                  "y": [
                    78,
                    38,
                    30,
                    1,
                    3,
                    1,
                    2
                  ],
                  "type": "bar",
                  "uid": "78e3e8f8-bc6b-11e8-933f-0242ac130008"
                }
              ],
              "layout": {
                "title": "Google Search Volume",
                "xaxis": {
                  "title": "Framework"
                },
                "yaxis": {
                  "title": "Relative Search Volume"
                }
              }
            },
            "text/html": "<div id=\"3f3ec21a-2461-49e8-a3cd-1959da6bd354\" style=\"height: 525px; width: 100%;\" class=\"plotly-graph-div\"></div><script type=\"text/javascript\">require([\"plotly\"], function(Plotly) { window.PLOTLYENV=window.PLOTLYENV || {};window.PLOTLYENV.BASE_URL=\"https://plot.ly\";Plotly.newPlot(\"3f3ec21a-2461-49e8-a3cd-1959da6bd354\", [{\"marker\": {\"color\": [\"rgb(27,158,119)\", \"rgb(217,95,2)\", \"rgb(117,112,179)\", \"rgb(231,41,138)\", \"rgb(102,166,30)\", \"rgb(230,171,2)\", \"rgb(166,118,29)\"]}, \"x\": [\"TensorFlow\", \"Keras\", \"PyTorch\", \"Theano\", \"MXNET\", \"CNTK\", \"FastAI\"], \"y\": [78, 38, 30, 1, 3, 1, 2], \"type\": \"bar\", \"uid\": \"78e3e8f8-bc6b-11e8-933f-0242ac130008\"}], {\"title\": \"Google Search Volume\", \"xaxis\": {\"title\": \"Framework\"}, \"yaxis\": {\"title\": \"Relative Search Volume\"}}, {\"showLink\": true, \"linkText\": \"Export to plot.ly\"})});</script>",
            "text/vnd.plotly.v1+html": "<div id=\"3f3ec21a-2461-49e8-a3cd-1959da6bd354\" style=\"height: 525px; width: 100%;\" class=\"plotly-graph-div\"></div><script type=\"text/javascript\">require([\"plotly\"], function(Plotly) { window.PLOTLYENV=window.PLOTLYENV || {};window.PLOTLYENV.BASE_URL=\"https://plot.ly\";Plotly.newPlot(\"3f3ec21a-2461-49e8-a3cd-1959da6bd354\", [{\"marker\": {\"color\": [\"rgb(27,158,119)\", \"rgb(217,95,2)\", \"rgb(117,112,179)\", \"rgb(231,41,138)\", \"rgb(102,166,30)\", \"rgb(230,171,2)\", \"rgb(166,118,29)\"]}, \"x\": [\"TensorFlow\", \"Keras\", \"PyTorch\", \"Theano\", \"MXNET\", \"CNTK\", \"FastAI\"], \"y\": [78, 38, 30, 1, 3, 1, 2], \"type\": \"bar\", \"uid\": \"78e3e8f8-bc6b-11e8-933f-0242ac130008\"}], {\"title\": \"Google Search Volume\", \"xaxis\": {\"title\": \"Framework\"}, \"yaxis\": {\"title\": \"Relative Search Volume\"}}, {\"showLink\": true, \"linkText\": \"Export to plot.ly\"})});</script>"
          },
          "metadata": {}
        }
      ]
    },
    {
      "metadata": {
        "_uuid": "a6e06c4826a9ff29008d10929f414de1ef774f8a"
      },
      "cell_type": "markdown",
      "source": "## Medium Articles"
    },
    {
      "metadata": {
        "trusted": true,
        "_uuid": "e70ab521830995f8e6e62516241f8f48f967cef0"
      },
      "cell_type": "code",
      "source": "# Make sure you have colorlover imported as cl for color scale\n# cs is defined in first cell\n\ndata = [\n    go.Bar(\n        x=df.index, \n        y=df['medium'],\n        marker=dict(color=cs) ,\n    )\n]\n    \nlayout = {\n    'title': 'Medium Articles',\n    'xaxis': {'title': 'Framework'},\n    'yaxis': {'title': \"Articles\"},\n}\n\nfig = go.Figure(data=data, layout=layout)\npy.iplot(fig)",
      "execution_count": 20,
      "outputs": [
        {
          "output_type": "display_data",
          "data": {
            "application/vnd.plotly.v1+json": {
              "data": [
                {
                  "marker": {
                    "color": [
                      "rgb(27,158,119)",
                      "rgb(217,95,2)",
                      "rgb(117,112,179)",
                      "rgb(231,41,138)",
                      "rgb(102,166,30)",
                      "rgb(230,171,2)",
                      "rgb(166,118,29)"
                    ]
                  },
                  "x": [
                    "TensorFlow",
                    "Keras",
                    "PyTorch",
                    "Theano",
                    "MXNET",
                    "CNTK",
                    "FastAI"
                  ],
                  "y": [
                    45300,
                    48200,
                    6410,
                    1670,
                    2010,
                    675,
                    4480
                  ],
                  "type": "bar",
                  "uid": "78f02be0-bc6b-11e8-933f-0242ac130008"
                }
              ],
              "layout": {
                "title": "Medium Articles",
                "xaxis": {
                  "title": "Framework"
                },
                "yaxis": {
                  "title": "Articles"
                }
              }
            },
            "text/html": "<div id=\"ce8bcb8b-5a27-4a4c-a735-b3f714cbf4a9\" style=\"height: 525px; width: 100%;\" class=\"plotly-graph-div\"></div><script type=\"text/javascript\">require([\"plotly\"], function(Plotly) { window.PLOTLYENV=window.PLOTLYENV || {};window.PLOTLYENV.BASE_URL=\"https://plot.ly\";Plotly.newPlot(\"ce8bcb8b-5a27-4a4c-a735-b3f714cbf4a9\", [{\"marker\": {\"color\": [\"rgb(27,158,119)\", \"rgb(217,95,2)\", \"rgb(117,112,179)\", \"rgb(231,41,138)\", \"rgb(102,166,30)\", \"rgb(230,171,2)\", \"rgb(166,118,29)\"]}, \"x\": [\"TensorFlow\", \"Keras\", \"PyTorch\", \"Theano\", \"MXNET\", \"CNTK\", \"FastAI\"], \"y\": [45300, 48200, 6410, 1670, 2010, 675, 4480], \"type\": \"bar\", \"uid\": \"78f02be0-bc6b-11e8-933f-0242ac130008\"}], {\"title\": \"Medium Articles\", \"xaxis\": {\"title\": \"Framework\"}, \"yaxis\": {\"title\": \"Articles\"}}, {\"showLink\": true, \"linkText\": \"Export to plot.ly\"})});</script>",
            "text/vnd.plotly.v1+html": "<div id=\"ce8bcb8b-5a27-4a4c-a735-b3f714cbf4a9\" style=\"height: 525px; width: 100%;\" class=\"plotly-graph-div\"></div><script type=\"text/javascript\">require([\"plotly\"], function(Plotly) { window.PLOTLYENV=window.PLOTLYENV || {};window.PLOTLYENV.BASE_URL=\"https://plot.ly\";Plotly.newPlot(\"ce8bcb8b-5a27-4a4c-a735-b3f714cbf4a9\", [{\"marker\": {\"color\": [\"rgb(27,158,119)\", \"rgb(217,95,2)\", \"rgb(117,112,179)\", \"rgb(231,41,138)\", \"rgb(102,166,30)\", \"rgb(230,171,2)\", \"rgb(166,118,29)\"]}, \"x\": [\"TensorFlow\", \"Keras\", \"PyTorch\", \"Theano\", \"MXNET\", \"CNTK\", \"FastAI\"], \"y\": [45300, 48200, 6410, 1670, 2010, 675, 4480], \"type\": \"bar\", \"uid\": \"78f02be0-bc6b-11e8-933f-0242ac130008\"}], {\"title\": \"Medium Articles\", \"xaxis\": {\"title\": \"Framework\"}, \"yaxis\": {\"title\": \"Articles\"}}, {\"showLink\": true, \"linkText\": \"Export to plot.ly\"})});</script>"
          },
          "metadata": {}
        }
      ]
    },
    {
      "metadata": {
        "_uuid": "11083db3187d0af7f0fffd278cd63c74f0276bad"
      },
      "cell_type": "markdown",
      "source": "## Amazon Books"
    },
    {
      "metadata": {
        "trusted": true,
        "_uuid": "a3c86aac9c2d0ee0c0de733ffac2a0602a7d14f1"
      },
      "cell_type": "code",
      "source": "data = [\n    go.Bar(\n        x=df.index, \n        y=df['books'],\n        marker=dict(color=cs),           \n    )\n]\n    \nlayout = {\n    'title': 'Amazon Books',\n    'xaxis': {'title': 'Framework'},\n    'yaxis': {'title': \"Books\"},\n}\n\nfig = go.Figure(data=data, layout=layout)\npy.iplot(fig)",
      "execution_count": 21,
      "outputs": [
        {
          "output_type": "display_data",
          "data": {
            "application/vnd.plotly.v1+json": {
              "data": [
                {
                  "marker": {
                    "color": [
                      "rgb(27,158,119)",
                      "rgb(217,95,2)",
                      "rgb(117,112,179)",
                      "rgb(231,41,138)",
                      "rgb(102,166,30)",
                      "rgb(230,171,2)",
                      "rgb(166,118,29)"
                    ]
                  },
                  "x": [
                    "TensorFlow",
                    "Keras",
                    "PyTorch",
                    "Theano",
                    "MXNET",
                    "CNTK",
                    "FastAI"
                  ],
                  "y": [
                    202,
                    79,
                    18,
                    17,
                    32,
                    1,
                    0
                  ],
                  "type": "bar",
                  "uid": "78fcbe82-bc6b-11e8-933f-0242ac130008"
                }
              ],
              "layout": {
                "title": "Amazon Books",
                "xaxis": {
                  "title": "Framework"
                },
                "yaxis": {
                  "title": "Books"
                }
              }
            },
            "text/html": "<div id=\"f227bca6-a2d0-49cd-b0a3-a3d16d7a82eb\" style=\"height: 525px; width: 100%;\" class=\"plotly-graph-div\"></div><script type=\"text/javascript\">require([\"plotly\"], function(Plotly) { window.PLOTLYENV=window.PLOTLYENV || {};window.PLOTLYENV.BASE_URL=\"https://plot.ly\";Plotly.newPlot(\"f227bca6-a2d0-49cd-b0a3-a3d16d7a82eb\", [{\"marker\": {\"color\": [\"rgb(27,158,119)\", \"rgb(217,95,2)\", \"rgb(117,112,179)\", \"rgb(231,41,138)\", \"rgb(102,166,30)\", \"rgb(230,171,2)\", \"rgb(166,118,29)\"]}, \"x\": [\"TensorFlow\", \"Keras\", \"PyTorch\", \"Theano\", \"MXNET\", \"CNTK\", \"FastAI\"], \"y\": [202, 79, 18, 17, 32, 1, 0], \"type\": \"bar\", \"uid\": \"78fcbe82-bc6b-11e8-933f-0242ac130008\"}], {\"title\": \"Amazon Books\", \"xaxis\": {\"title\": \"Framework\"}, \"yaxis\": {\"title\": \"Books\"}}, {\"showLink\": true, \"linkText\": \"Export to plot.ly\"})});</script>",
            "text/vnd.plotly.v1+html": "<div id=\"f227bca6-a2d0-49cd-b0a3-a3d16d7a82eb\" style=\"height: 525px; width: 100%;\" class=\"plotly-graph-div\"></div><script type=\"text/javascript\">require([\"plotly\"], function(Plotly) { window.PLOTLYENV=window.PLOTLYENV || {};window.PLOTLYENV.BASE_URL=\"https://plot.ly\";Plotly.newPlot(\"f227bca6-a2d0-49cd-b0a3-a3d16d7a82eb\", [{\"marker\": {\"color\": [\"rgb(27,158,119)\", \"rgb(217,95,2)\", \"rgb(117,112,179)\", \"rgb(231,41,138)\", \"rgb(102,166,30)\", \"rgb(230,171,2)\", \"rgb(166,118,29)\"]}, \"x\": [\"TensorFlow\", \"Keras\", \"PyTorch\", \"Theano\", \"MXNET\", \"CNTK\", \"FastAI\"], \"y\": [202, 79, 18, 17, 32, 1, 0], \"type\": \"bar\", \"uid\": \"78fcbe82-bc6b-11e8-933f-0242ac130008\"}], {\"title\": \"Amazon Books\", \"xaxis\": {\"title\": \"Framework\"}, \"yaxis\": {\"title\": \"Books\"}}, {\"showLink\": true, \"linkText\": \"Export to plot.ly\"})});</script>"
          },
          "metadata": {}
        }
      ]
    },
    {
      "metadata": {
        "_uuid": "b4b7c7d872126b440a6447a9a469360fe083caa3"
      },
      "cell_type": "markdown",
      "source": "## ArXiv Articles"
    },
    {
      "metadata": {
        "trusted": true,
        "_uuid": "364eeff0093bc59938f254b1c112dcfb8944c963"
      },
      "cell_type": "code",
      "source": "data = [\n    go.Bar(\n        x=df.index, \n        y=df['arxiv'],\n        marker=dict(color=cs),           \n    )\n]\n\nlayout = {\n    'title': 'ArXiv Articles',\n    'xaxis': {'title': 'Framework'},\n    'yaxis': {'title': \"Articles\"},\n}\n\nfig = go.Figure(data=data, layout=layout)\npy.iplot(fig)",
      "execution_count": 22,
      "outputs": [
        {
          "output_type": "display_data",
          "data": {
            "application/vnd.plotly.v1+json": {
              "data": [
                {
                  "marker": {
                    "color": [
                      "rgb(27,158,119)",
                      "rgb(217,95,2)",
                      "rgb(117,112,179)",
                      "rgb(231,41,138)",
                      "rgb(102,166,30)",
                      "rgb(230,171,2)",
                      "rgb(166,118,29)"
                    ]
                  },
                  "x": [
                    "TensorFlow",
                    "Keras",
                    "PyTorch",
                    "Theano",
                    "MXNET",
                    "CNTK",
                    "FastAI"
                  ],
                  "y": [
                    201,
                    36,
                    42,
                    36,
                    26,
                    13,
                    1
                  ],
                  "type": "bar",
                  "uid": "790917a4-bc6b-11e8-933f-0242ac130008"
                }
              ],
              "layout": {
                "title": "ArXiv Articles",
                "xaxis": {
                  "title": "Framework"
                },
                "yaxis": {
                  "title": "Articles"
                }
              }
            },
            "text/html": "<div id=\"eae74735-5826-4414-9058-a3e4e644b740\" style=\"height: 525px; width: 100%;\" class=\"plotly-graph-div\"></div><script type=\"text/javascript\">require([\"plotly\"], function(Plotly) { window.PLOTLYENV=window.PLOTLYENV || {};window.PLOTLYENV.BASE_URL=\"https://plot.ly\";Plotly.newPlot(\"eae74735-5826-4414-9058-a3e4e644b740\", [{\"marker\": {\"color\": [\"rgb(27,158,119)\", \"rgb(217,95,2)\", \"rgb(117,112,179)\", \"rgb(231,41,138)\", \"rgb(102,166,30)\", \"rgb(230,171,2)\", \"rgb(166,118,29)\"]}, \"x\": [\"TensorFlow\", \"Keras\", \"PyTorch\", \"Theano\", \"MXNET\", \"CNTK\", \"FastAI\"], \"y\": [201, 36, 42, 36, 26, 13, 1], \"type\": \"bar\", \"uid\": \"790917a4-bc6b-11e8-933f-0242ac130008\"}], {\"title\": \"ArXiv Articles\", \"xaxis\": {\"title\": \"Framework\"}, \"yaxis\": {\"title\": \"Articles\"}}, {\"showLink\": true, \"linkText\": \"Export to plot.ly\"})});</script>",
            "text/vnd.plotly.v1+html": "<div id=\"eae74735-5826-4414-9058-a3e4e644b740\" style=\"height: 525px; width: 100%;\" class=\"plotly-graph-div\"></div><script type=\"text/javascript\">require([\"plotly\"], function(Plotly) { window.PLOTLYENV=window.PLOTLYENV || {};window.PLOTLYENV.BASE_URL=\"https://plot.ly\";Plotly.newPlot(\"eae74735-5826-4414-9058-a3e4e644b740\", [{\"marker\": {\"color\": [\"rgb(27,158,119)\", \"rgb(217,95,2)\", \"rgb(117,112,179)\", \"rgb(231,41,138)\", \"rgb(102,166,30)\", \"rgb(230,171,2)\", \"rgb(166,118,29)\"]}, \"x\": [\"TensorFlow\", \"Keras\", \"PyTorch\", \"Theano\", \"MXNET\", \"CNTK\", \"FastAI\"], \"y\": [201, 36, 42, 36, 26, 13, 1], \"type\": \"bar\", \"uid\": \"790917a4-bc6b-11e8-933f-0242ac130008\"}], {\"title\": \"ArXiv Articles\", \"xaxis\": {\"title\": \"Framework\"}, \"yaxis\": {\"title\": \"Articles\"}}, {\"showLink\": true, \"linkText\": \"Export to plot.ly\"})});</script>"
          },
          "metadata": {}
        }
      ]
    },
    {
      "metadata": {
        "_uuid": "1c91ee725e0f84dca231777f7e5d70ea1a5bbab3"
      },
      "cell_type": "markdown",
      "source": "# GitHub Activity\nLet's make another stacked bar chart of the four GitHub categories."
    },
    {
      "metadata": {
        "trusted": true,
        "_uuid": "13ee09fc5aa8b182ebc8a91ab76a75b17619f08a"
      },
      "cell_type": "code",
      "source": "y_stars = df['stars']\ny_watchers = df['watchers']\ny_forks = df['forks']\ny_contribs = df['contribs']\n\nstars = go.Bar(x = df.index, y=y_stars, name=\"Stars\")\nwatchers = go.Bar(x=df.index, y=y_watchers, name=\"Watchers\")\nforks = go.Bar(x=df.index, y=y_forks, name=\"Forks\")\ncontribs = go.Bar(x=df.index, y=y_contribs, name=\"Contributors\")\n\n\ndata = [stars, watchers, forks, contribs]\nlayout = go.Layout(barmode='stack', \n    title=\"GitHub Activity\",\n    xaxis={'title': 'Framework'},\n    yaxis={\n        'title': \"Quantity\",\n        'separatethousands': True,\n    }\n)\n\nfig = go.Figure(data=data, layout=layout)\npy.iplot(fig)",
      "execution_count": 23,
      "outputs": [
        {
          "output_type": "display_data",
          "data": {
            "application/vnd.plotly.v1+json": {
              "data": [
                {
                  "name": "Stars",
                  "x": [
                    "TensorFlow",
                    "Keras",
                    "PyTorch",
                    "Theano",
                    "MXNET",
                    "CNTK",
                    "FastAI"
                  ],
                  "y": [
                    109576,
                    33558,
                    18716,
                    8477,
                    15200,
                    15106,
                    7268
                  ],
                  "type": "bar",
                  "uid": "791ac152-bc6b-11e8-933f-0242ac130008"
                },
                {
                  "name": "Watchers",
                  "x": [
                    "TensorFlow",
                    "Keras",
                    "PyTorch",
                    "Theano",
                    "MXNET",
                    "CNTK",
                    "FastAI"
                  ],
                  "y": [
                    8334,
                    1847,
                    952,
                    585,
                    1170,
                    1368,
                    432
                  ],
                  "type": "bar",
                  "uid": "791ad73c-bc6b-11e8-933f-0242ac130008"
                },
                {
                  "name": "Forks",
                  "x": [
                    "TensorFlow",
                    "Keras",
                    "PyTorch",
                    "Theano",
                    "MXNET",
                    "CNTK",
                    "FastAI"
                  ],
                  "y": [
                    67551,
                    12658,
                    4474,
                    2447,
                    5498,
                    4029,
                    2647
                  ],
                  "type": "bar",
                  "uid": "791ad89a-bc6b-11e8-933f-0242ac130008"
                },
                {
                  "name": "Contributors",
                  "x": [
                    "TensorFlow",
                    "Keras",
                    "PyTorch",
                    "Theano",
                    "MXNET",
                    "CNTK",
                    "FastAI"
                  ],
                  "y": [
                    1642,
                    719,
                    760,
                    328,
                    587,
                    189,
                    195
                  ],
                  "type": "bar",
                  "uid": "791ad994-bc6b-11e8-933f-0242ac130008"
                }
              ],
              "layout": {
                "barmode": "stack",
                "title": "GitHub Activity",
                "xaxis": {
                  "title": "Framework"
                },
                "yaxis": {
                  "separatethousands": true,
                  "title": "Quantity"
                }
              }
            },
            "text/html": "<div id=\"0385266c-30e3-4963-bce6-b956a2ad8fdb\" style=\"height: 525px; width: 100%;\" class=\"plotly-graph-div\"></div><script type=\"text/javascript\">require([\"plotly\"], function(Plotly) { window.PLOTLYENV=window.PLOTLYENV || {};window.PLOTLYENV.BASE_URL=\"https://plot.ly\";Plotly.newPlot(\"0385266c-30e3-4963-bce6-b956a2ad8fdb\", [{\"name\": \"Stars\", \"x\": [\"TensorFlow\", \"Keras\", \"PyTorch\", \"Theano\", \"MXNET\", \"CNTK\", \"FastAI\"], \"y\": [109576, 33558, 18716, 8477, 15200, 15106, 7268], \"type\": \"bar\", \"uid\": \"791ac152-bc6b-11e8-933f-0242ac130008\"}, {\"name\": \"Watchers\", \"x\": [\"TensorFlow\", \"Keras\", \"PyTorch\", \"Theano\", \"MXNET\", \"CNTK\", \"FastAI\"], \"y\": [8334, 1847, 952, 585, 1170, 1368, 432], \"type\": \"bar\", \"uid\": \"791ad73c-bc6b-11e8-933f-0242ac130008\"}, {\"name\": \"Forks\", \"x\": [\"TensorFlow\", \"Keras\", \"PyTorch\", \"Theano\", \"MXNET\", \"CNTK\", \"FastAI\"], \"y\": [67551, 12658, 4474, 2447, 5498, 4029, 2647], \"type\": \"bar\", \"uid\": \"791ad89a-bc6b-11e8-933f-0242ac130008\"}, {\"name\": \"Contributors\", \"x\": [\"TensorFlow\", \"Keras\", \"PyTorch\", \"Theano\", \"MXNET\", \"CNTK\", \"FastAI\"], \"y\": [1642, 719, 760, 328, 587, 189, 195], \"type\": \"bar\", \"uid\": \"791ad994-bc6b-11e8-933f-0242ac130008\"}], {\"barmode\": \"stack\", \"title\": \"GitHub Activity\", \"xaxis\": {\"title\": \"Framework\"}, \"yaxis\": {\"separatethousands\": true, \"title\": \"Quantity\"}}, {\"showLink\": true, \"linkText\": \"Export to plot.ly\"})});</script>",
            "text/vnd.plotly.v1+html": "<div id=\"0385266c-30e3-4963-bce6-b956a2ad8fdb\" style=\"height: 525px; width: 100%;\" class=\"plotly-graph-div\"></div><script type=\"text/javascript\">require([\"plotly\"], function(Plotly) { window.PLOTLYENV=window.PLOTLYENV || {};window.PLOTLYENV.BASE_URL=\"https://plot.ly\";Plotly.newPlot(\"0385266c-30e3-4963-bce6-b956a2ad8fdb\", [{\"name\": \"Stars\", \"x\": [\"TensorFlow\", \"Keras\", \"PyTorch\", \"Theano\", \"MXNET\", \"CNTK\", \"FastAI\"], \"y\": [109576, 33558, 18716, 8477, 15200, 15106, 7268], \"type\": \"bar\", \"uid\": \"791ac152-bc6b-11e8-933f-0242ac130008\"}, {\"name\": \"Watchers\", \"x\": [\"TensorFlow\", \"Keras\", \"PyTorch\", \"Theano\", \"MXNET\", \"CNTK\", \"FastAI\"], \"y\": [8334, 1847, 952, 585, 1170, 1368, 432], \"type\": \"bar\", \"uid\": \"791ad73c-bc6b-11e8-933f-0242ac130008\"}, {\"name\": \"Forks\", \"x\": [\"TensorFlow\", \"Keras\", \"PyTorch\", \"Theano\", \"MXNET\", \"CNTK\", \"FastAI\"], \"y\": [67551, 12658, 4474, 2447, 5498, 4029, 2647], \"type\": \"bar\", \"uid\": \"791ad89a-bc6b-11e8-933f-0242ac130008\"}, {\"name\": \"Contributors\", \"x\": [\"TensorFlow\", \"Keras\", \"PyTorch\", \"Theano\", \"MXNET\", \"CNTK\", \"FastAI\"], \"y\": [1642, 719, 760, 328, 587, 189, 195], \"type\": \"bar\", \"uid\": \"791ad994-bc6b-11e8-933f-0242ac130008\"}], {\"barmode\": \"stack\", \"title\": \"GitHub Activity\", \"xaxis\": {\"title\": \"Framework\"}, \"yaxis\": {\"separatethousands\": true, \"title\": \"Quantity\"}}, {\"showLink\": true, \"linkText\": \"Export to plot.ly\"})});</script>"
          },
          "metadata": {}
        }
      ]
    },
    {
      "metadata": {
        "_uuid": "e58b069e7dd390dfeb65b17bd23217a581c8c0ed"
      },
      "cell_type": "markdown",
      "source": "This configuration doesn't make the most sense, because there are going to be way more stars than contributors. It's not an apples to apples comparison. Let's try four subplots instead."
    },
    {
      "metadata": {
        "trusted": true,
        "_uuid": "815d4f533e7846be6c42c65e82dc34cc2610026e"
      },
      "cell_type": "code",
      "source": "trace1 = go.Bar(\n    x=df.index,\n    y=df['stars'],\n    name='Stars',\n    marker=dict(color=cs),\n)\ntrace2 = go.Bar(\n    x=df.index,\n    y=df['forks'],\n    name =\"Forks\",\n    marker=dict(color=cs)\n)\ntrace3 = go.Bar(\n    x=df.index,\n    y=df['watchers'],\n    name='Watchers',\n    marker=dict(color=cs)\n)\ntrace4 = go.Bar(\n    x=df.index,\n    y=df['contribs'],\n    name='Contributors',\n    marker=dict(color=cs),\n)\n\nfig = tls.make_subplots(\n    rows=2, \n    cols=2, \n    subplot_titles=(\n        'Stars', \n        'Forks',\n        'Watchers',\n        'Contributors',\n    )\n)\n\nfig['layout']['yaxis3'].update(separatethousands = True)\nfig['layout']['yaxis4'].update(separatethousands = True)\nfig['layout']['yaxis2'].update(tickformat = ',k', separatethousands = True)\nfig['layout']['yaxis1'].update(tickformat = ',k', separatethousands = True)\n\nfig.append_trace(trace1, 1, 1)\nfig.append_trace(trace2, 1, 2)\nfig.append_trace(trace3, 2, 1)\nfig.append_trace(trace4, 2, 2)\n\nfig['layout'].update(title = 'GitHub Activity', showlegend = False)\npy.iplot(fig)",
      "execution_count": 24,
      "outputs": [
        {
          "output_type": "stream",
          "text": "This is the format of your plot grid:\n[ (1,1) x1,y1 ]  [ (1,2) x2,y2 ]\n[ (2,1) x3,y3 ]  [ (2,2) x4,y4 ]\n\n",
          "name": "stdout"
        },
        {
          "output_type": "display_data",
          "data": {
            "application/vnd.plotly.v1+json": {
              "data": [
                {
                  "marker": {
                    "color": [
                      "rgb(27,158,119)",
                      "rgb(217,95,2)",
                      "rgb(117,112,179)",
                      "rgb(231,41,138)",
                      "rgb(102,166,30)",
                      "rgb(230,171,2)",
                      "rgb(166,118,29)"
                    ]
                  },
                  "name": "Stars",
                  "x": [
                    "TensorFlow",
                    "Keras",
                    "PyTorch",
                    "Theano",
                    "MXNET",
                    "CNTK",
                    "FastAI"
                  ],
                  "y": [
                    109576,
                    33558,
                    18716,
                    8477,
                    15200,
                    15106,
                    7268
                  ],
                  "type": "bar",
                  "uid": "793bd96e-bc6b-11e8-933f-0242ac130008",
                  "xaxis": "x",
                  "yaxis": "y"
                },
                {
                  "marker": {
                    "color": [
                      "rgb(27,158,119)",
                      "rgb(217,95,2)",
                      "rgb(117,112,179)",
                      "rgb(231,41,138)",
                      "rgb(102,166,30)",
                      "rgb(230,171,2)",
                      "rgb(166,118,29)"
                    ]
                  },
                  "name": "Forks",
                  "x": [
                    "TensorFlow",
                    "Keras",
                    "PyTorch",
                    "Theano",
                    "MXNET",
                    "CNTK",
                    "FastAI"
                  ],
                  "y": [
                    67551,
                    12658,
                    4474,
                    2447,
                    5498,
                    4029,
                    2647
                  ],
                  "type": "bar",
                  "uid": "793c7d56-bc6b-11e8-933f-0242ac130008",
                  "xaxis": "x2",
                  "yaxis": "y2"
                },
                {
                  "marker": {
                    "color": [
                      "rgb(27,158,119)",
                      "rgb(217,95,2)",
                      "rgb(117,112,179)",
                      "rgb(231,41,138)",
                      "rgb(102,166,30)",
                      "rgb(230,171,2)",
                      "rgb(166,118,29)"
                    ]
                  },
                  "name": "Watchers",
                  "x": [
                    "TensorFlow",
                    "Keras",
                    "PyTorch",
                    "Theano",
                    "MXNET",
                    "CNTK",
                    "FastAI"
                  ],
                  "y": [
                    8334,
                    1847,
                    952,
                    585,
                    1170,
                    1368,
                    432
                  ],
                  "type": "bar",
                  "uid": "793d1f5e-bc6b-11e8-933f-0242ac130008",
                  "xaxis": "x3",
                  "yaxis": "y3"
                },
                {
                  "marker": {
                    "color": [
                      "rgb(27,158,119)",
                      "rgb(217,95,2)",
                      "rgb(117,112,179)",
                      "rgb(231,41,138)",
                      "rgb(102,166,30)",
                      "rgb(230,171,2)",
                      "rgb(166,118,29)"
                    ]
                  },
                  "name": "Contributors",
                  "x": [
                    "TensorFlow",
                    "Keras",
                    "PyTorch",
                    "Theano",
                    "MXNET",
                    "CNTK",
                    "FastAI"
                  ],
                  "y": [
                    1642,
                    719,
                    760,
                    328,
                    587,
                    189,
                    195
                  ],
                  "type": "bar",
                  "uid": "793dafa0-bc6b-11e8-933f-0242ac130008",
                  "xaxis": "x4",
                  "yaxis": "y4"
                }
              ],
              "layout": {
                "annotations": [
                  {
                    "font": {
                      "size": 16
                    },
                    "showarrow": false,
                    "text": "Stars",
                    "x": 0.225,
                    "xanchor": "center",
                    "xref": "paper",
                    "y": 1,
                    "yanchor": "bottom",
                    "yref": "paper"
                  },
                  {
                    "font": {
                      "size": 16
                    },
                    "showarrow": false,
                    "text": "Forks",
                    "x": 0.775,
                    "xanchor": "center",
                    "xref": "paper",
                    "y": 1,
                    "yanchor": "bottom",
                    "yref": "paper"
                  },
                  {
                    "font": {
                      "size": 16
                    },
                    "showarrow": false,
                    "text": "Watchers",
                    "x": 0.225,
                    "xanchor": "center",
                    "xref": "paper",
                    "y": 0.375,
                    "yanchor": "bottom",
                    "yref": "paper"
                  },
                  {
                    "font": {
                      "size": 16
                    },
                    "showarrow": false,
                    "text": "Contributors",
                    "x": 0.775,
                    "xanchor": "center",
                    "xref": "paper",
                    "y": 0.375,
                    "yanchor": "bottom",
                    "yref": "paper"
                  }
                ],
                "xaxis": {
                  "anchor": "y",
                  "domain": [
                    0,
                    0.45
                  ]
                },
                "yaxis": {
                  "anchor": "x",
                  "domain": [
                    0.625,
                    1
                  ],
                  "tickformat": ",k",
                  "separatethousands": true
                },
                "xaxis2": {
                  "anchor": "y2",
                  "domain": [
                    0.55,
                    1
                  ]
                },
                "yaxis2": {
                  "anchor": "x2",
                  "domain": [
                    0.625,
                    1
                  ],
                  "tickformat": ",k",
                  "separatethousands": true
                },
                "xaxis3": {
                  "anchor": "y3",
                  "domain": [
                    0,
                    0.45
                  ]
                },
                "yaxis3": {
                  "anchor": "x3",
                  "domain": [
                    0,
                    0.375
                  ],
                  "separatethousands": true
                },
                "xaxis4": {
                  "anchor": "y4",
                  "domain": [
                    0.55,
                    1
                  ]
                },
                "yaxis4": {
                  "anchor": "x4",
                  "domain": [
                    0,
                    0.375
                  ],
                  "separatethousands": true
                },
                "title": "GitHub Activity",
                "showlegend": false
              }
            },
            "text/html": "<div id=\"95f5bee1-2b30-474f-9767-705ebb51bbcd\" style=\"height: 525px; width: 100%;\" class=\"plotly-graph-div\"></div><script type=\"text/javascript\">require([\"plotly\"], function(Plotly) { window.PLOTLYENV=window.PLOTLYENV || {};window.PLOTLYENV.BASE_URL=\"https://plot.ly\";Plotly.newPlot(\"95f5bee1-2b30-474f-9767-705ebb51bbcd\", [{\"marker\": {\"color\": [\"rgb(27,158,119)\", \"rgb(217,95,2)\", \"rgb(117,112,179)\", \"rgb(231,41,138)\", \"rgb(102,166,30)\", \"rgb(230,171,2)\", \"rgb(166,118,29)\"]}, \"name\": \"Stars\", \"x\": [\"TensorFlow\", \"Keras\", \"PyTorch\", \"Theano\", \"MXNET\", \"CNTK\", \"FastAI\"], \"y\": [109576, 33558, 18716, 8477, 15200, 15106, 7268], \"type\": \"bar\", \"uid\": \"793bd96e-bc6b-11e8-933f-0242ac130008\", \"xaxis\": \"x\", \"yaxis\": \"y\"}, {\"marker\": {\"color\": [\"rgb(27,158,119)\", \"rgb(217,95,2)\", \"rgb(117,112,179)\", \"rgb(231,41,138)\", \"rgb(102,166,30)\", \"rgb(230,171,2)\", \"rgb(166,118,29)\"]}, \"name\": \"Forks\", \"x\": [\"TensorFlow\", \"Keras\", \"PyTorch\", \"Theano\", \"MXNET\", \"CNTK\", \"FastAI\"], \"y\": [67551, 12658, 4474, 2447, 5498, 4029, 2647], \"type\": \"bar\", \"uid\": \"793c7d56-bc6b-11e8-933f-0242ac130008\", \"xaxis\": \"x2\", \"yaxis\": \"y2\"}, {\"marker\": {\"color\": [\"rgb(27,158,119)\", \"rgb(217,95,2)\", \"rgb(117,112,179)\", \"rgb(231,41,138)\", \"rgb(102,166,30)\", \"rgb(230,171,2)\", \"rgb(166,118,29)\"]}, \"name\": \"Watchers\", \"x\": [\"TensorFlow\", \"Keras\", \"PyTorch\", \"Theano\", \"MXNET\", \"CNTK\", \"FastAI\"], \"y\": [8334, 1847, 952, 585, 1170, 1368, 432], \"type\": \"bar\", \"uid\": \"793d1f5e-bc6b-11e8-933f-0242ac130008\", \"xaxis\": \"x3\", \"yaxis\": \"y3\"}, {\"marker\": {\"color\": [\"rgb(27,158,119)\", \"rgb(217,95,2)\", \"rgb(117,112,179)\", \"rgb(231,41,138)\", \"rgb(102,166,30)\", \"rgb(230,171,2)\", \"rgb(166,118,29)\"]}, \"name\": \"Contributors\", \"x\": [\"TensorFlow\", \"Keras\", \"PyTorch\", \"Theano\", \"MXNET\", \"CNTK\", \"FastAI\"], \"y\": [1642, 719, 760, 328, 587, 189, 195], \"type\": \"bar\", \"uid\": \"793dafa0-bc6b-11e8-933f-0242ac130008\", \"xaxis\": \"x4\", \"yaxis\": \"y4\"}], {\"annotations\": [{\"font\": {\"size\": 16}, \"showarrow\": false, \"text\": \"Stars\", \"x\": 0.225, \"xanchor\": \"center\", \"xref\": \"paper\", \"y\": 1.0, \"yanchor\": \"bottom\", \"yref\": \"paper\"}, {\"font\": {\"size\": 16}, \"showarrow\": false, \"text\": \"Forks\", \"x\": 0.775, \"xanchor\": \"center\", \"xref\": \"paper\", \"y\": 1.0, \"yanchor\": \"bottom\", \"yref\": \"paper\"}, {\"font\": {\"size\": 16}, \"showarrow\": false, \"text\": \"Watchers\", \"x\": 0.225, \"xanchor\": \"center\", \"xref\": \"paper\", \"y\": 0.375, \"yanchor\": \"bottom\", \"yref\": \"paper\"}, {\"font\": {\"size\": 16}, \"showarrow\": false, \"text\": \"Contributors\", \"x\": 0.775, \"xanchor\": \"center\", \"xref\": \"paper\", \"y\": 0.375, \"yanchor\": \"bottom\", \"yref\": \"paper\"}], \"xaxis\": {\"anchor\": \"y\", \"domain\": [0.0, 0.45]}, \"yaxis\": {\"anchor\": \"x\", \"domain\": [0.625, 1.0], \"tickformat\": \",k\", \"separatethousands\": true}, \"xaxis2\": {\"anchor\": \"y2\", \"domain\": [0.55, 1.0]}, \"yaxis2\": {\"anchor\": \"x2\", \"domain\": [0.625, 1.0], \"tickformat\": \",k\", \"separatethousands\": true}, \"xaxis3\": {\"anchor\": \"y3\", \"domain\": [0.0, 0.45]}, \"yaxis3\": {\"anchor\": \"x3\", \"domain\": [0.0, 0.375], \"separatethousands\": true}, \"xaxis4\": {\"anchor\": \"y4\", \"domain\": [0.55, 1.0]}, \"yaxis4\": {\"anchor\": \"x4\", \"domain\": [0.0, 0.375], \"separatethousands\": true}, \"title\": \"GitHub Activity\", \"showlegend\": false}, {\"showLink\": true, \"linkText\": \"Export to plot.ly\"})});</script>",
            "text/vnd.plotly.v1+html": "<div id=\"95f5bee1-2b30-474f-9767-705ebb51bbcd\" style=\"height: 525px; width: 100%;\" class=\"plotly-graph-div\"></div><script type=\"text/javascript\">require([\"plotly\"], function(Plotly) { window.PLOTLYENV=window.PLOTLYENV || {};window.PLOTLYENV.BASE_URL=\"https://plot.ly\";Plotly.newPlot(\"95f5bee1-2b30-474f-9767-705ebb51bbcd\", [{\"marker\": {\"color\": [\"rgb(27,158,119)\", \"rgb(217,95,2)\", \"rgb(117,112,179)\", \"rgb(231,41,138)\", \"rgb(102,166,30)\", \"rgb(230,171,2)\", \"rgb(166,118,29)\"]}, \"name\": \"Stars\", \"x\": [\"TensorFlow\", \"Keras\", \"PyTorch\", \"Theano\", \"MXNET\", \"CNTK\", \"FastAI\"], \"y\": [109576, 33558, 18716, 8477, 15200, 15106, 7268], \"type\": \"bar\", \"uid\": \"793bd96e-bc6b-11e8-933f-0242ac130008\", \"xaxis\": \"x\", \"yaxis\": \"y\"}, {\"marker\": {\"color\": [\"rgb(27,158,119)\", \"rgb(217,95,2)\", \"rgb(117,112,179)\", \"rgb(231,41,138)\", \"rgb(102,166,30)\", \"rgb(230,171,2)\", \"rgb(166,118,29)\"]}, \"name\": \"Forks\", \"x\": [\"TensorFlow\", \"Keras\", \"PyTorch\", \"Theano\", \"MXNET\", \"CNTK\", \"FastAI\"], \"y\": [67551, 12658, 4474, 2447, 5498, 4029, 2647], \"type\": \"bar\", \"uid\": \"793c7d56-bc6b-11e8-933f-0242ac130008\", \"xaxis\": \"x2\", \"yaxis\": \"y2\"}, {\"marker\": {\"color\": [\"rgb(27,158,119)\", \"rgb(217,95,2)\", \"rgb(117,112,179)\", \"rgb(231,41,138)\", \"rgb(102,166,30)\", \"rgb(230,171,2)\", \"rgb(166,118,29)\"]}, \"name\": \"Watchers\", \"x\": [\"TensorFlow\", \"Keras\", \"PyTorch\", \"Theano\", \"MXNET\", \"CNTK\", \"FastAI\"], \"y\": [8334, 1847, 952, 585, 1170, 1368, 432], \"type\": \"bar\", \"uid\": \"793d1f5e-bc6b-11e8-933f-0242ac130008\", \"xaxis\": \"x3\", \"yaxis\": \"y3\"}, {\"marker\": {\"color\": [\"rgb(27,158,119)\", \"rgb(217,95,2)\", \"rgb(117,112,179)\", \"rgb(231,41,138)\", \"rgb(102,166,30)\", \"rgb(230,171,2)\", \"rgb(166,118,29)\"]}, \"name\": \"Contributors\", \"x\": [\"TensorFlow\", \"Keras\", \"PyTorch\", \"Theano\", \"MXNET\", \"CNTK\", \"FastAI\"], \"y\": [1642, 719, 760, 328, 587, 189, 195], \"type\": \"bar\", \"uid\": \"793dafa0-bc6b-11e8-933f-0242ac130008\", \"xaxis\": \"x4\", \"yaxis\": \"y4\"}], {\"annotations\": [{\"font\": {\"size\": 16}, \"showarrow\": false, \"text\": \"Stars\", \"x\": 0.225, \"xanchor\": \"center\", \"xref\": \"paper\", \"y\": 1.0, \"yanchor\": \"bottom\", \"yref\": \"paper\"}, {\"font\": {\"size\": 16}, \"showarrow\": false, \"text\": \"Forks\", \"x\": 0.775, \"xanchor\": \"center\", \"xref\": \"paper\", \"y\": 1.0, \"yanchor\": \"bottom\", \"yref\": \"paper\"}, {\"font\": {\"size\": 16}, \"showarrow\": false, \"text\": \"Watchers\", \"x\": 0.225, \"xanchor\": \"center\", \"xref\": \"paper\", \"y\": 0.375, \"yanchor\": \"bottom\", \"yref\": \"paper\"}, {\"font\": {\"size\": 16}, \"showarrow\": false, \"text\": \"Contributors\", \"x\": 0.775, \"xanchor\": \"center\", \"xref\": \"paper\", \"y\": 0.375, \"yanchor\": \"bottom\", \"yref\": \"paper\"}], \"xaxis\": {\"anchor\": \"y\", \"domain\": [0.0, 0.45]}, \"yaxis\": {\"anchor\": \"x\", \"domain\": [0.625, 1.0], \"tickformat\": \",k\", \"separatethousands\": true}, \"xaxis2\": {\"anchor\": \"y2\", \"domain\": [0.55, 1.0]}, \"yaxis2\": {\"anchor\": \"x2\", \"domain\": [0.625, 1.0], \"tickformat\": \",k\", \"separatethousands\": true}, \"xaxis3\": {\"anchor\": \"y3\", \"domain\": [0.0, 0.45]}, \"yaxis3\": {\"anchor\": \"x3\", \"domain\": [0.0, 0.375], \"separatethousands\": true}, \"xaxis4\": {\"anchor\": \"y4\", \"domain\": [0.55, 1.0]}, \"yaxis4\": {\"anchor\": \"x4\", \"domain\": [0.0, 0.375], \"separatethousands\": true}, \"title\": \"GitHub Activity\", \"showlegend\": false}, {\"showLink\": true, \"linkText\": \"Export to plot.ly\"})});</script>"
          },
          "metadata": {}
        }
      ]
    },
    {
      "metadata": {
        "_uuid": "8b2192e20eb9f82f1a5c57c035c6468bcdbf12bb"
      },
      "cell_type": "markdown",
      "source": "This presentation shows the information in a more comprehensible and appropriate format."
    },
    {
      "metadata": {
        "_uuid": "dc349da513db7f10d367354847998b49d324096f"
      },
      "cell_type": "markdown",
      "source": "# Scale and Aggregate for Power Scores\nScale each column. For each column we'll use MinMaxScaler to subtract the minumum and divide by the original max - original min."
    },
    {
      "metadata": {
        "trusted": true,
        "_uuid": "c3d6ede7f80bd83a482197b8ea365650ec798bff"
      },
      "cell_type": "code",
      "source": "df.info()",
      "execution_count": 25,
      "outputs": [
        {
          "output_type": "stream",
          "text": "<class 'pandas.core.frame.DataFrame'>\nIndex: 7 entries, TensorFlow to FastAI\nData columns (total 15 columns):\nindeed      7 non-null int64\nmonster     7 non-null int64\nsimply      7 non-null int64\nlinkedin    7 non-null int64\nangel       7 non-null int64\nusage       7 non-null float64\nsearch      7 non-null int64\nmedium      7 non-null int64\nbooks       7 non-null int64\narxiv       7 non-null int64\nstars       7 non-null int64\nwatchers    7 non-null int64\nforks       7 non-null int64\ncontribs    7 non-null int64\nhiring      7 non-null int64\ndtypes: float64(1), int64(14)\nmemory usage: 896.0+ bytes\n",
          "name": "stdout"
        }
      ]
    },
    {
      "metadata": {
        "trusted": true,
        "_uuid": "90de34cb37e8c36b429e383c20704b6de2f9bc43"
      },
      "cell_type": "code",
      "source": "scale = MinMaxScaler()\nscaled_df = pd.DataFrame(\n    scale.fit_transform(df), \n    columns = df.columns,\n    index = df.index)    ",
      "execution_count": 26,
      "outputs": []
    },
    {
      "metadata": {
        "trusted": true,
        "_uuid": "ec2a78ffdafbe829292fd99225d48b2364437545"
      },
      "cell_type": "code",
      "source": "scaled_df",
      "execution_count": 27,
      "outputs": [
        {
          "output_type": "execute_result",
          "execution_count": 27,
          "data": {
            "text/plain": "            indeed  monster  simply  linkedin  angel  usage  search  medium  \\\nframework                                                                     \nTensorFlow    1.00     1.00    1.00      1.00   1.00   1.00    1.00    0.94   \nKeras         0.33     0.29    0.28      0.27   0.32   0.76    0.48    1.00   \nPyTorch       0.23     0.25    0.27      0.25   0.22   0.21    0.38    0.12   \nTheano        0.17     0.25    0.18      0.19   0.17   0.14    0.00    0.02   \nMXNET         0.13     0.12    0.13      0.11   0.05   0.03    0.03    0.03   \nCNTK          0.06     0.08    0.06      0.06   0.02   0.10    0.00    0.00   \nFastAI        0.00     0.00    0.00      0.00   0.00   0.00    0.01    0.08   \n\n            books  arxiv  stars  watchers  forks  contribs  hiring  \nframework                                                           \nTensorFlow   1.00   1.00   1.00      1.00   1.00      1.00    1.00  \nKeras        0.39   0.17   0.26      0.18   0.16      0.36    0.29  \nPyTorch      0.09   0.20   0.11      0.07   0.03      0.39    0.25  \nTheano       0.08   0.17   0.01      0.02   0.00      0.10    0.19  \nMXNET        0.16   0.12   0.08      0.09   0.05      0.27    0.12  \nCNTK         0.00   0.06   0.08      0.12   0.02      0.00    0.06  \nFastAI       0.00   0.00   0.00      0.00   0.00      0.00    0.00  ",
            "text/html": "<div>\n<style scoped>\n    .dataframe tbody tr th:only-of-type {\n        vertical-align: middle;\n    }\n\n    .dataframe tbody tr th {\n        vertical-align: top;\n    }\n\n    .dataframe thead th {\n        text-align: right;\n    }\n</style>\n<table border=\"1\" class=\"dataframe\">\n  <thead>\n    <tr style=\"text-align: right;\">\n      <th></th>\n      <th>indeed</th>\n      <th>monster</th>\n      <th>simply</th>\n      <th>linkedin</th>\n      <th>angel</th>\n      <th>usage</th>\n      <th>search</th>\n      <th>medium</th>\n      <th>books</th>\n      <th>arxiv</th>\n      <th>stars</th>\n      <th>watchers</th>\n      <th>forks</th>\n      <th>contribs</th>\n      <th>hiring</th>\n    </tr>\n    <tr>\n      <th>framework</th>\n      <th></th>\n      <th></th>\n      <th></th>\n      <th></th>\n      <th></th>\n      <th></th>\n      <th></th>\n      <th></th>\n      <th></th>\n      <th></th>\n      <th></th>\n      <th></th>\n      <th></th>\n      <th></th>\n      <th></th>\n    </tr>\n  </thead>\n  <tbody>\n    <tr>\n      <th>TensorFlow</th>\n      <td>1.00</td>\n      <td>1.00</td>\n      <td>1.00</td>\n      <td>1.00</td>\n      <td>1.00</td>\n      <td>1.00</td>\n      <td>1.00</td>\n      <td>0.94</td>\n      <td>1.00</td>\n      <td>1.00</td>\n      <td>1.00</td>\n      <td>1.00</td>\n      <td>1.00</td>\n      <td>1.00</td>\n      <td>1.00</td>\n    </tr>\n    <tr>\n      <th>Keras</th>\n      <td>0.33</td>\n      <td>0.29</td>\n      <td>0.28</td>\n      <td>0.27</td>\n      <td>0.32</td>\n      <td>0.76</td>\n      <td>0.48</td>\n      <td>1.00</td>\n      <td>0.39</td>\n      <td>0.17</td>\n      <td>0.26</td>\n      <td>0.18</td>\n      <td>0.16</td>\n      <td>0.36</td>\n      <td>0.29</td>\n    </tr>\n    <tr>\n      <th>PyTorch</th>\n      <td>0.23</td>\n      <td>0.25</td>\n      <td>0.27</td>\n      <td>0.25</td>\n      <td>0.22</td>\n      <td>0.21</td>\n      <td>0.38</td>\n      <td>0.12</td>\n      <td>0.09</td>\n      <td>0.20</td>\n      <td>0.11</td>\n      <td>0.07</td>\n      <td>0.03</td>\n      <td>0.39</td>\n      <td>0.25</td>\n    </tr>\n    <tr>\n      <th>Theano</th>\n      <td>0.17</td>\n      <td>0.25</td>\n      <td>0.18</td>\n      <td>0.19</td>\n      <td>0.17</td>\n      <td>0.14</td>\n      <td>0.00</td>\n      <td>0.02</td>\n      <td>0.08</td>\n      <td>0.17</td>\n      <td>0.01</td>\n      <td>0.02</td>\n      <td>0.00</td>\n      <td>0.10</td>\n      <td>0.19</td>\n    </tr>\n    <tr>\n      <th>MXNET</th>\n      <td>0.13</td>\n      <td>0.12</td>\n      <td>0.13</td>\n      <td>0.11</td>\n      <td>0.05</td>\n      <td>0.03</td>\n      <td>0.03</td>\n      <td>0.03</td>\n      <td>0.16</td>\n      <td>0.12</td>\n      <td>0.08</td>\n      <td>0.09</td>\n      <td>0.05</td>\n      <td>0.27</td>\n      <td>0.12</td>\n    </tr>\n    <tr>\n      <th>CNTK</th>\n      <td>0.06</td>\n      <td>0.08</td>\n      <td>0.06</td>\n      <td>0.06</td>\n      <td>0.02</td>\n      <td>0.10</td>\n      <td>0.00</td>\n      <td>0.00</td>\n      <td>0.00</td>\n      <td>0.06</td>\n      <td>0.08</td>\n      <td>0.12</td>\n      <td>0.02</td>\n      <td>0.00</td>\n      <td>0.06</td>\n    </tr>\n    <tr>\n      <th>FastAI</th>\n      <td>0.00</td>\n      <td>0.00</td>\n      <td>0.00</td>\n      <td>0.00</td>\n      <td>0.00</td>\n      <td>0.00</td>\n      <td>0.01</td>\n      <td>0.08</td>\n      <td>0.00</td>\n      <td>0.00</td>\n      <td>0.00</td>\n      <td>0.00</td>\n      <td>0.00</td>\n      <td>0.00</td>\n      <td>0.00</td>\n    </tr>\n  </tbody>\n</table>\n</div>"
          },
          "metadata": {}
        }
      ]
    },
    {
      "metadata": {
        "_uuid": "1ad75d99ddc77a83f5d17c7db96788f6720a23f7"
      },
      "cell_type": "markdown",
      "source": "### Scaled Online Job Listings\nLet's combine the scaled online job listing columns into a new column."
    },
    {
      "metadata": {
        "trusted": true,
        "_uuid": "6f645ff3d5e4d13e8bfb10d052a46d98a85342bd"
      },
      "cell_type": "code",
      "source": "scaled_df['hiring_score'] = scaled_df[['indeed', 'monster', 'simply', 'linkedin', 'angel']].mean(axis=1)",
      "execution_count": 28,
      "outputs": []
    },
    {
      "metadata": {
        "trusted": true,
        "_uuid": "0c94cdb2f2ce2047f0ad136f402b3a7283928b4e"
      },
      "cell_type": "code",
      "source": "scaled_df",
      "execution_count": 29,
      "outputs": [
        {
          "output_type": "execute_result",
          "execution_count": 29,
          "data": {
            "text/plain": "            indeed  monster  simply  linkedin  angel  usage  search  medium  \\\nframework                                                                     \nTensorFlow    1.00     1.00    1.00      1.00   1.00   1.00    1.00    0.94   \nKeras         0.33     0.29    0.28      0.27   0.32   0.76    0.48    1.00   \nPyTorch       0.23     0.25    0.27      0.25   0.22   0.21    0.38    0.12   \nTheano        0.17     0.25    0.18      0.19   0.17   0.14    0.00    0.02   \nMXNET         0.13     0.12    0.13      0.11   0.05   0.03    0.03    0.03   \nCNTK          0.06     0.08    0.06      0.06   0.02   0.10    0.00    0.00   \nFastAI        0.00     0.00    0.00      0.00   0.00   0.00    0.01    0.08   \n\n            books  arxiv  stars  watchers  forks  contribs  hiring  \\\nframework                                                            \nTensorFlow   1.00   1.00   1.00      1.00   1.00      1.00    1.00   \nKeras        0.39   0.17   0.26      0.18   0.16      0.36    0.29   \nPyTorch      0.09   0.20   0.11      0.07   0.03      0.39    0.25   \nTheano       0.08   0.17   0.01      0.02   0.00      0.10    0.19   \nMXNET        0.16   0.12   0.08      0.09   0.05      0.27    0.12   \nCNTK         0.00   0.06   0.08      0.12   0.02      0.00    0.06   \nFastAI       0.00   0.00   0.00      0.00   0.00      0.00    0.00   \n\n            hiring_score  \nframework                 \nTensorFlow          1.00  \nKeras               0.30  \nPyTorch             0.24  \nTheano              0.19  \nMXNET               0.11  \nCNTK                0.06  \nFastAI              0.00  ",
            "text/html": "<div>\n<style scoped>\n    .dataframe tbody tr th:only-of-type {\n        vertical-align: middle;\n    }\n\n    .dataframe tbody tr th {\n        vertical-align: top;\n    }\n\n    .dataframe thead th {\n        text-align: right;\n    }\n</style>\n<table border=\"1\" class=\"dataframe\">\n  <thead>\n    <tr style=\"text-align: right;\">\n      <th></th>\n      <th>indeed</th>\n      <th>monster</th>\n      <th>simply</th>\n      <th>linkedin</th>\n      <th>angel</th>\n      <th>usage</th>\n      <th>search</th>\n      <th>medium</th>\n      <th>books</th>\n      <th>arxiv</th>\n      <th>stars</th>\n      <th>watchers</th>\n      <th>forks</th>\n      <th>contribs</th>\n      <th>hiring</th>\n      <th>hiring_score</th>\n    </tr>\n    <tr>\n      <th>framework</th>\n      <th></th>\n      <th></th>\n      <th></th>\n      <th></th>\n      <th></th>\n      <th></th>\n      <th></th>\n      <th></th>\n      <th></th>\n      <th></th>\n      <th></th>\n      <th></th>\n      <th></th>\n      <th></th>\n      <th></th>\n      <th></th>\n    </tr>\n  </thead>\n  <tbody>\n    <tr>\n      <th>TensorFlow</th>\n      <td>1.00</td>\n      <td>1.00</td>\n      <td>1.00</td>\n      <td>1.00</td>\n      <td>1.00</td>\n      <td>1.00</td>\n      <td>1.00</td>\n      <td>0.94</td>\n      <td>1.00</td>\n      <td>1.00</td>\n      <td>1.00</td>\n      <td>1.00</td>\n      <td>1.00</td>\n      <td>1.00</td>\n      <td>1.00</td>\n      <td>1.00</td>\n    </tr>\n    <tr>\n      <th>Keras</th>\n      <td>0.33</td>\n      <td>0.29</td>\n      <td>0.28</td>\n      <td>0.27</td>\n      <td>0.32</td>\n      <td>0.76</td>\n      <td>0.48</td>\n      <td>1.00</td>\n      <td>0.39</td>\n      <td>0.17</td>\n      <td>0.26</td>\n      <td>0.18</td>\n      <td>0.16</td>\n      <td>0.36</td>\n      <td>0.29</td>\n      <td>0.30</td>\n    </tr>\n    <tr>\n      <th>PyTorch</th>\n      <td>0.23</td>\n      <td>0.25</td>\n      <td>0.27</td>\n      <td>0.25</td>\n      <td>0.22</td>\n      <td>0.21</td>\n      <td>0.38</td>\n      <td>0.12</td>\n      <td>0.09</td>\n      <td>0.20</td>\n      <td>0.11</td>\n      <td>0.07</td>\n      <td>0.03</td>\n      <td>0.39</td>\n      <td>0.25</td>\n      <td>0.24</td>\n    </tr>\n    <tr>\n      <th>Theano</th>\n      <td>0.17</td>\n      <td>0.25</td>\n      <td>0.18</td>\n      <td>0.19</td>\n      <td>0.17</td>\n      <td>0.14</td>\n      <td>0.00</td>\n      <td>0.02</td>\n      <td>0.08</td>\n      <td>0.17</td>\n      <td>0.01</td>\n      <td>0.02</td>\n      <td>0.00</td>\n      <td>0.10</td>\n      <td>0.19</td>\n      <td>0.19</td>\n    </tr>\n    <tr>\n      <th>MXNET</th>\n      <td>0.13</td>\n      <td>0.12</td>\n      <td>0.13</td>\n      <td>0.11</td>\n      <td>0.05</td>\n      <td>0.03</td>\n      <td>0.03</td>\n      <td>0.03</td>\n      <td>0.16</td>\n      <td>0.12</td>\n      <td>0.08</td>\n      <td>0.09</td>\n      <td>0.05</td>\n      <td>0.27</td>\n      <td>0.12</td>\n      <td>0.11</td>\n    </tr>\n    <tr>\n      <th>CNTK</th>\n      <td>0.06</td>\n      <td>0.08</td>\n      <td>0.06</td>\n      <td>0.06</td>\n      <td>0.02</td>\n      <td>0.10</td>\n      <td>0.00</td>\n      <td>0.00</td>\n      <td>0.00</td>\n      <td>0.06</td>\n      <td>0.08</td>\n      <td>0.12</td>\n      <td>0.02</td>\n      <td>0.00</td>\n      <td>0.06</td>\n      <td>0.06</td>\n    </tr>\n    <tr>\n      <th>FastAI</th>\n      <td>0.00</td>\n      <td>0.00</td>\n      <td>0.00</td>\n      <td>0.00</td>\n      <td>0.00</td>\n      <td>0.00</td>\n      <td>0.01</td>\n      <td>0.08</td>\n      <td>0.00</td>\n      <td>0.00</td>\n      <td>0.00</td>\n      <td>0.00</td>\n      <td>0.00</td>\n      <td>0.00</td>\n      <td>0.00</td>\n      <td>0.00</td>\n    </tr>\n  </tbody>\n</table>\n</div>"
          },
          "metadata": {}
        }
      ]
    },
    {
      "metadata": {
        "_uuid": "cfb9f50f8845ef8d5d3649c2d81ae263050611c9"
      },
      "cell_type": "markdown",
      "source": "Now we have a hiring score."
    },
    {
      "metadata": {
        "_uuid": "e786bb0202bc558790cebb551c658e04e54daaa6"
      },
      "cell_type": "markdown",
      "source": "### Scaled GitHub Activity\n\nLet's combine the scaled GitHub columns into a new column."
    },
    {
      "metadata": {
        "trusted": true,
        "_uuid": "7f40874e9802d8835f35546ed7ed166a98186a11"
      },
      "cell_type": "code",
      "source": "scaled_df['github_score'] = scaled_df[['stars', 'watchers', 'forks', 'contribs']].mean(axis=1)",
      "execution_count": 30,
      "outputs": []
    },
    {
      "metadata": {
        "trusted": true,
        "_uuid": "3ebc942d4e8968bebf9212a36d482c7a8317f319"
      },
      "cell_type": "code",
      "source": "scaled_df",
      "execution_count": 31,
      "outputs": [
        {
          "output_type": "execute_result",
          "execution_count": 31,
          "data": {
            "text/plain": "            indeed  monster  simply  linkedin  angel  usage  search  medium  \\\nframework                                                                     \nTensorFlow    1.00     1.00    1.00      1.00   1.00   1.00    1.00    0.94   \nKeras         0.33     0.29    0.28      0.27   0.32   0.76    0.48    1.00   \nPyTorch       0.23     0.25    0.27      0.25   0.22   0.21    0.38    0.12   \nTheano        0.17     0.25    0.18      0.19   0.17   0.14    0.00    0.02   \nMXNET         0.13     0.12    0.13      0.11   0.05   0.03    0.03    0.03   \nCNTK          0.06     0.08    0.06      0.06   0.02   0.10    0.00    0.00   \nFastAI        0.00     0.00    0.00      0.00   0.00   0.00    0.01    0.08   \n\n            books  arxiv  stars  watchers  forks  contribs  hiring  \\\nframework                                                            \nTensorFlow   1.00   1.00   1.00      1.00   1.00      1.00    1.00   \nKeras        0.39   0.17   0.26      0.18   0.16      0.36    0.29   \nPyTorch      0.09   0.20   0.11      0.07   0.03      0.39    0.25   \nTheano       0.08   0.17   0.01      0.02   0.00      0.10    0.19   \nMXNET        0.16   0.12   0.08      0.09   0.05      0.27    0.12   \nCNTK         0.00   0.06   0.08      0.12   0.02      0.00    0.06   \nFastAI       0.00   0.00   0.00      0.00   0.00      0.00    0.00   \n\n            hiring_score  github_score  \nframework                               \nTensorFlow          1.00          1.00  \nKeras               0.30          0.24  \nPyTorch             0.24          0.15  \nTheano              0.19          0.03  \nMXNET               0.11          0.12  \nCNTK                0.06          0.05  \nFastAI              0.00          0.00  ",
            "text/html": "<div>\n<style scoped>\n    .dataframe tbody tr th:only-of-type {\n        vertical-align: middle;\n    }\n\n    .dataframe tbody tr th {\n        vertical-align: top;\n    }\n\n    .dataframe thead th {\n        text-align: right;\n    }\n</style>\n<table border=\"1\" class=\"dataframe\">\n  <thead>\n    <tr style=\"text-align: right;\">\n      <th></th>\n      <th>indeed</th>\n      <th>monster</th>\n      <th>simply</th>\n      <th>linkedin</th>\n      <th>angel</th>\n      <th>usage</th>\n      <th>search</th>\n      <th>medium</th>\n      <th>books</th>\n      <th>arxiv</th>\n      <th>stars</th>\n      <th>watchers</th>\n      <th>forks</th>\n      <th>contribs</th>\n      <th>hiring</th>\n      <th>hiring_score</th>\n      <th>github_score</th>\n    </tr>\n    <tr>\n      <th>framework</th>\n      <th></th>\n      <th></th>\n      <th></th>\n      <th></th>\n      <th></th>\n      <th></th>\n      <th></th>\n      <th></th>\n      <th></th>\n      <th></th>\n      <th></th>\n      <th></th>\n      <th></th>\n      <th></th>\n      <th></th>\n      <th></th>\n      <th></th>\n    </tr>\n  </thead>\n  <tbody>\n    <tr>\n      <th>TensorFlow</th>\n      <td>1.00</td>\n      <td>1.00</td>\n      <td>1.00</td>\n      <td>1.00</td>\n      <td>1.00</td>\n      <td>1.00</td>\n      <td>1.00</td>\n      <td>0.94</td>\n      <td>1.00</td>\n      <td>1.00</td>\n      <td>1.00</td>\n      <td>1.00</td>\n      <td>1.00</td>\n      <td>1.00</td>\n      <td>1.00</td>\n      <td>1.00</td>\n      <td>1.00</td>\n    </tr>\n    <tr>\n      <th>Keras</th>\n      <td>0.33</td>\n      <td>0.29</td>\n      <td>0.28</td>\n      <td>0.27</td>\n      <td>0.32</td>\n      <td>0.76</td>\n      <td>0.48</td>\n      <td>1.00</td>\n      <td>0.39</td>\n      <td>0.17</td>\n      <td>0.26</td>\n      <td>0.18</td>\n      <td>0.16</td>\n      <td>0.36</td>\n      <td>0.29</td>\n      <td>0.30</td>\n      <td>0.24</td>\n    </tr>\n    <tr>\n      <th>PyTorch</th>\n      <td>0.23</td>\n      <td>0.25</td>\n      <td>0.27</td>\n      <td>0.25</td>\n      <td>0.22</td>\n      <td>0.21</td>\n      <td>0.38</td>\n      <td>0.12</td>\n      <td>0.09</td>\n      <td>0.20</td>\n      <td>0.11</td>\n      <td>0.07</td>\n      <td>0.03</td>\n      <td>0.39</td>\n      <td>0.25</td>\n      <td>0.24</td>\n      <td>0.15</td>\n    </tr>\n    <tr>\n      <th>Theano</th>\n      <td>0.17</td>\n      <td>0.25</td>\n      <td>0.18</td>\n      <td>0.19</td>\n      <td>0.17</td>\n      <td>0.14</td>\n      <td>0.00</td>\n      <td>0.02</td>\n      <td>0.08</td>\n      <td>0.17</td>\n      <td>0.01</td>\n      <td>0.02</td>\n      <td>0.00</td>\n      <td>0.10</td>\n      <td>0.19</td>\n      <td>0.19</td>\n      <td>0.03</td>\n    </tr>\n    <tr>\n      <th>MXNET</th>\n      <td>0.13</td>\n      <td>0.12</td>\n      <td>0.13</td>\n      <td>0.11</td>\n      <td>0.05</td>\n      <td>0.03</td>\n      <td>0.03</td>\n      <td>0.03</td>\n      <td>0.16</td>\n      <td>0.12</td>\n      <td>0.08</td>\n      <td>0.09</td>\n      <td>0.05</td>\n      <td>0.27</td>\n      <td>0.12</td>\n      <td>0.11</td>\n      <td>0.12</td>\n    </tr>\n    <tr>\n      <th>CNTK</th>\n      <td>0.06</td>\n      <td>0.08</td>\n      <td>0.06</td>\n      <td>0.06</td>\n      <td>0.02</td>\n      <td>0.10</td>\n      <td>0.00</td>\n      <td>0.00</td>\n      <td>0.00</td>\n      <td>0.06</td>\n      <td>0.08</td>\n      <td>0.12</td>\n      <td>0.02</td>\n      <td>0.00</td>\n      <td>0.06</td>\n      <td>0.06</td>\n      <td>0.05</td>\n    </tr>\n    <tr>\n      <th>FastAI</th>\n      <td>0.00</td>\n      <td>0.00</td>\n      <td>0.00</td>\n      <td>0.00</td>\n      <td>0.00</td>\n      <td>0.00</td>\n      <td>0.01</td>\n      <td>0.08</td>\n      <td>0.00</td>\n      <td>0.00</td>\n      <td>0.00</td>\n      <td>0.00</td>\n      <td>0.00</td>\n      <td>0.00</td>\n      <td>0.00</td>\n      <td>0.00</td>\n      <td>0.00</td>\n    </tr>\n  </tbody>\n</table>\n</div>"
          },
          "metadata": {}
        }
      ]
    },
    {
      "metadata": {
        "_uuid": "c475e5274adbf9edcd01501ec5cc918e4fb4a074"
      },
      "cell_type": "markdown",
      "source": "Now we have all our aggregate columns and are ready to turn to the weights."
    },
    {
      "metadata": {
        "_uuid": "3043fe82cdf2ccab22a9b5510d62516ccce7a36e"
      },
      "cell_type": "markdown",
      "source": "## Weights"
    },
    {
      "metadata": {
        "_uuid": "3afa636153bf9c65a95b01532c33f011b9754f15"
      },
      "cell_type": "markdown",
      "source": "Let's make a pie chart of weights by category."
    },
    {
      "metadata": {
        "trusted": true,
        "_uuid": "ff1a609cd3adaf98303b00140e301d14bd91ef58"
      },
      "cell_type": "code",
      "source": "weights = {'Online Job Listings ': .3,\n           'KDnuggets Usage Survey': .2,\n           'GitHub Activity': .1,\n           'Google Search Volume': .1,\n           'Medium Articles': .1,\n           'Amazon Books': .1,\n           'ArXiv Articles': .1 }",
      "execution_count": 32,
      "outputs": []
    },
    {
      "metadata": {
        "trusted": true,
        "_uuid": "c7a7dff08840d6df0088b18ca8612f4c7e489947"
      },
      "cell_type": "code",
      "source": "# changing colors because we want to show these aren't the frameworks\nweight_colors = cl.scales['7']['qual']['Set1'] \n\ncommon_props = dict(\n    labels = list(weights.keys()),\n    values = list(weights.values()),\n    textfont=dict(size=16),\n    marker=dict(colors=weight_colors),\n    hoverinfo='none',\n    showlegend=False,\n)\n\ntrace1 = go.Pie(\n    **common_props,\n    textinfo='label',\n    textposition='outside',\n)\n\ntrace2 = go.Pie(\n    **common_props,\n    textinfo='percent',\n    textposition='inside',\n)\n\nlayout = go.Layout(title = 'Weights by Category')\n\nfig = go.Figure([trace1, trace2], layout=layout)\npy.iplot(fig)",
      "execution_count": 33,
      "outputs": [
        {
          "output_type": "display_data",
          "data": {
            "application/vnd.plotly.v1+json": {
              "data": [
                {
                  "hoverinfo": "none",
                  "labels": [
                    "Online Job Listings ",
                    "KDnuggets Usage Survey",
                    "GitHub Activity",
                    "Google Search Volume",
                    "Medium Articles",
                    "Amazon Books",
                    "ArXiv Articles"
                  ],
                  "marker": {
                    "colors": [
                      "rgb(228,26,28)",
                      "rgb(55,126,184)",
                      "rgb(77,175,74)",
                      "rgb(152,78,163)",
                      "rgb(255,127,0)",
                      "rgb(255,255,51)",
                      "rgb(166,86,40)"
                    ]
                  },
                  "showlegend": false,
                  "textfont": {
                    "size": 16
                  },
                  "textinfo": "label",
                  "textposition": "outside",
                  "values": [
                    0.3,
                    0.2,
                    0.1,
                    0.1,
                    0.1,
                    0.1,
                    0.1
                  ],
                  "type": "pie",
                  "uid": "79c4f26c-bc6b-11e8-933f-0242ac130008"
                },
                {
                  "hoverinfo": "none",
                  "labels": [
                    "Online Job Listings ",
                    "KDnuggets Usage Survey",
                    "GitHub Activity",
                    "Google Search Volume",
                    "Medium Articles",
                    "Amazon Books",
                    "ArXiv Articles"
                  ],
                  "marker": {
                    "colors": [
                      "rgb(228,26,28)",
                      "rgb(55,126,184)",
                      "rgb(77,175,74)",
                      "rgb(152,78,163)",
                      "rgb(255,127,0)",
                      "rgb(255,255,51)",
                      "rgb(166,86,40)"
                    ]
                  },
                  "showlegend": false,
                  "textfont": {
                    "size": 16
                  },
                  "textinfo": "percent",
                  "textposition": "inside",
                  "values": [
                    0.3,
                    0.2,
                    0.1,
                    0.1,
                    0.1,
                    0.1,
                    0.1
                  ],
                  "type": "pie",
                  "uid": "79c4f65e-bc6b-11e8-933f-0242ac130008"
                }
              ],
              "layout": {
                "title": "Weights by Category"
              }
            },
            "text/html": "<div id=\"cc0dc5c9-fad7-4091-bbcf-1e1e14b55eda\" style=\"height: 525px; width: 100%;\" class=\"plotly-graph-div\"></div><script type=\"text/javascript\">require([\"plotly\"], function(Plotly) { window.PLOTLYENV=window.PLOTLYENV || {};window.PLOTLYENV.BASE_URL=\"https://plot.ly\";Plotly.newPlot(\"cc0dc5c9-fad7-4091-bbcf-1e1e14b55eda\", [{\"hoverinfo\": \"none\", \"labels\": [\"Online Job Listings\\u00a0\", \"KDnuggets Usage Survey\", \"GitHub Activity\", \"Google Search Volume\", \"Medium Articles\", \"Amazon Books\", \"ArXiv Articles\"], \"marker\": {\"colors\": [\"rgb(228,26,28)\", \"rgb(55,126,184)\", \"rgb(77,175,74)\", \"rgb(152,78,163)\", \"rgb(255,127,0)\", \"rgb(255,255,51)\", \"rgb(166,86,40)\"]}, \"showlegend\": false, \"textfont\": {\"size\": 16}, \"textinfo\": \"label\", \"textposition\": \"outside\", \"values\": [0.3, 0.2, 0.1, 0.1, 0.1, 0.1, 0.1], \"type\": \"pie\", \"uid\": \"79c4f26c-bc6b-11e8-933f-0242ac130008\"}, {\"hoverinfo\": \"none\", \"labels\": [\"Online Job Listings\\u00a0\", \"KDnuggets Usage Survey\", \"GitHub Activity\", \"Google Search Volume\", \"Medium Articles\", \"Amazon Books\", \"ArXiv Articles\"], \"marker\": {\"colors\": [\"rgb(228,26,28)\", \"rgb(55,126,184)\", \"rgb(77,175,74)\", \"rgb(152,78,163)\", \"rgb(255,127,0)\", \"rgb(255,255,51)\", \"rgb(166,86,40)\"]}, \"showlegend\": false, \"textfont\": {\"size\": 16}, \"textinfo\": \"percent\", \"textposition\": \"inside\", \"values\": [0.3, 0.2, 0.1, 0.1, 0.1, 0.1, 0.1], \"type\": \"pie\", \"uid\": \"79c4f65e-bc6b-11e8-933f-0242ac130008\"}], {\"title\": \"Weights by Category\"}, {\"showLink\": true, \"linkText\": \"Export to plot.ly\"})});</script>",
            "text/vnd.plotly.v1+html": "<div id=\"cc0dc5c9-fad7-4091-bbcf-1e1e14b55eda\" style=\"height: 525px; width: 100%;\" class=\"plotly-graph-div\"></div><script type=\"text/javascript\">require([\"plotly\"], function(Plotly) { window.PLOTLYENV=window.PLOTLYENV || {};window.PLOTLYENV.BASE_URL=\"https://plot.ly\";Plotly.newPlot(\"cc0dc5c9-fad7-4091-bbcf-1e1e14b55eda\", [{\"hoverinfo\": \"none\", \"labels\": [\"Online Job Listings\\u00a0\", \"KDnuggets Usage Survey\", \"GitHub Activity\", \"Google Search Volume\", \"Medium Articles\", \"Amazon Books\", \"ArXiv Articles\"], \"marker\": {\"colors\": [\"rgb(228,26,28)\", \"rgb(55,126,184)\", \"rgb(77,175,74)\", \"rgb(152,78,163)\", \"rgb(255,127,0)\", \"rgb(255,255,51)\", \"rgb(166,86,40)\"]}, \"showlegend\": false, \"textfont\": {\"size\": 16}, \"textinfo\": \"label\", \"textposition\": \"outside\", \"values\": [0.3, 0.2, 0.1, 0.1, 0.1, 0.1, 0.1], \"type\": \"pie\", \"uid\": \"79c4f26c-bc6b-11e8-933f-0242ac130008\"}, {\"hoverinfo\": \"none\", \"labels\": [\"Online Job Listings\\u00a0\", \"KDnuggets Usage Survey\", \"GitHub Activity\", \"Google Search Volume\", \"Medium Articles\", \"Amazon Books\", \"ArXiv Articles\"], \"marker\": {\"colors\": [\"rgb(228,26,28)\", \"rgb(55,126,184)\", \"rgb(77,175,74)\", \"rgb(152,78,163)\", \"rgb(255,127,0)\", \"rgb(255,255,51)\", \"rgb(166,86,40)\"]}, \"showlegend\": false, \"textfont\": {\"size\": 16}, \"textinfo\": \"percent\", \"textposition\": \"inside\", \"values\": [0.3, 0.2, 0.1, 0.1, 0.1, 0.1, 0.1], \"type\": \"pie\", \"uid\": \"79c4f65e-bc6b-11e8-933f-0242ac130008\"}], {\"title\": \"Weights by Category\"}, {\"showLink\": true, \"linkText\": \"Export to plot.ly\"})});</script>"
          },
          "metadata": {}
        }
      ]
    },
    {
      "metadata": {
        "_uuid": "e2c84ca9733d8d3163aa0e8e74f1b4acdc844445"
      },
      "cell_type": "markdown",
      "source": "## Weight the Categories"
    },
    {
      "metadata": {
        "trusted": true,
        "_uuid": "f5d1eb479d788beef0aaecc0edbe4c7b260e47a9"
      },
      "cell_type": "code",
      "source": "scaled_df['w_hiring'] = scaled_df['hiring_score'] * .3\nscaled_df['w_usage'] = scaled_df['usage'] * .2\nscaled_df['w_github'] = scaled_df['github_score'] * .1\nscaled_df['w_search'] = scaled_df['search'] * .1\nscaled_df['w_arxiv'] = scaled_df['arxiv'] * .1\nscaled_df['w_books'] = scaled_df['books'] * .1\nscaled_df['w_medium'] = scaled_df['medium'] * .1",
      "execution_count": 34,
      "outputs": []
    },
    {
      "metadata": {
        "trusted": true,
        "_uuid": "5e51a796d7aa45ee156e281829bb7cfae4115035"
      },
      "cell_type": "code",
      "source": "weight_list = ['w_hiring', 'w_usage', 'w_github', 'w_search', 'w_arxiv', 'w_books', 'w_medium']\nscaled_df = scaled_df[weight_list]\nscaled_df",
      "execution_count": 35,
      "outputs": [
        {
          "output_type": "execute_result",
          "execution_count": 35,
          "data": {
            "text/plain": "            w_hiring  w_usage  w_github  w_search  w_arxiv  w_books  w_medium\nframework                                                                    \nTensorFlow      0.30     0.20      0.10      0.10     0.10     0.10      0.09\nKeras           0.09     0.15      0.02      0.05     0.02     0.04      0.10\nPyTorch         0.07     0.04      0.02      0.04     0.02     0.01      0.01\nTheano          0.06     0.03      0.00      0.00     0.02     0.01      0.00\nMXNET           0.03     0.01      0.01      0.00     0.01     0.02      0.00\nCNTK            0.02     0.02      0.01      0.00     0.01     0.00      0.00\nFastAI          0.00     0.00      0.00      0.00     0.00     0.00      0.01",
            "text/html": "<div>\n<style scoped>\n    .dataframe tbody tr th:only-of-type {\n        vertical-align: middle;\n    }\n\n    .dataframe tbody tr th {\n        vertical-align: top;\n    }\n\n    .dataframe thead th {\n        text-align: right;\n    }\n</style>\n<table border=\"1\" class=\"dataframe\">\n  <thead>\n    <tr style=\"text-align: right;\">\n      <th></th>\n      <th>w_hiring</th>\n      <th>w_usage</th>\n      <th>w_github</th>\n      <th>w_search</th>\n      <th>w_arxiv</th>\n      <th>w_books</th>\n      <th>w_medium</th>\n    </tr>\n    <tr>\n      <th>framework</th>\n      <th></th>\n      <th></th>\n      <th></th>\n      <th></th>\n      <th></th>\n      <th></th>\n      <th></th>\n    </tr>\n  </thead>\n  <tbody>\n    <tr>\n      <th>TensorFlow</th>\n      <td>0.30</td>\n      <td>0.20</td>\n      <td>0.10</td>\n      <td>0.10</td>\n      <td>0.10</td>\n      <td>0.10</td>\n      <td>0.09</td>\n    </tr>\n    <tr>\n      <th>Keras</th>\n      <td>0.09</td>\n      <td>0.15</td>\n      <td>0.02</td>\n      <td>0.05</td>\n      <td>0.02</td>\n      <td>0.04</td>\n      <td>0.10</td>\n    </tr>\n    <tr>\n      <th>PyTorch</th>\n      <td>0.07</td>\n      <td>0.04</td>\n      <td>0.02</td>\n      <td>0.04</td>\n      <td>0.02</td>\n      <td>0.01</td>\n      <td>0.01</td>\n    </tr>\n    <tr>\n      <th>Theano</th>\n      <td>0.06</td>\n      <td>0.03</td>\n      <td>0.00</td>\n      <td>0.00</td>\n      <td>0.02</td>\n      <td>0.01</td>\n      <td>0.00</td>\n    </tr>\n    <tr>\n      <th>MXNET</th>\n      <td>0.03</td>\n      <td>0.01</td>\n      <td>0.01</td>\n      <td>0.00</td>\n      <td>0.01</td>\n      <td>0.02</td>\n      <td>0.00</td>\n    </tr>\n    <tr>\n      <th>CNTK</th>\n      <td>0.02</td>\n      <td>0.02</td>\n      <td>0.01</td>\n      <td>0.00</td>\n      <td>0.01</td>\n      <td>0.00</td>\n      <td>0.00</td>\n    </tr>\n    <tr>\n      <th>FastAI</th>\n      <td>0.00</td>\n      <td>0.00</td>\n      <td>0.00</td>\n      <td>0.00</td>\n      <td>0.00</td>\n      <td>0.00</td>\n      <td>0.01</td>\n    </tr>\n  </tbody>\n</table>\n</div>"
          },
          "metadata": {}
        }
      ]
    },
    {
      "metadata": {
        "_uuid": "f00fe5959fb7e3576c92d3b2dfb22a0b0c6e4fc6"
      },
      "cell_type": "markdown",
      "source": "## Power Scores\nLet's make the power score column by summing the seven category scores."
    },
    {
      "metadata": {
        "trusted": true,
        "_uuid": "61a6bcbfd5cb59c46e855367068dda6099748629"
      },
      "cell_type": "code",
      "source": "scaled_df['ps'] = scaled_df[weight_list].sum(axis = 1)\nscaled_df",
      "execution_count": 36,
      "outputs": [
        {
          "output_type": "execute_result",
          "execution_count": 36,
          "data": {
            "text/plain": "            w_hiring  w_usage  w_github  w_search  w_arxiv  w_books  w_medium  \\\nframework                                                                       \nTensorFlow      0.30     0.20      0.10      0.10     0.10     0.10      0.09   \nKeras           0.09     0.15      0.02      0.05     0.02     0.04      0.10   \nPyTorch         0.07     0.04      0.02      0.04     0.02     0.01      0.01   \nTheano          0.06     0.03      0.00      0.00     0.02     0.01      0.00   \nMXNET           0.03     0.01      0.01      0.00     0.01     0.02      0.00   \nCNTK            0.02     0.02      0.01      0.00     0.01     0.00      0.00   \nFastAI          0.00     0.00      0.00      0.00     0.00     0.00      0.01   \n\n             ps  \nframework        \nTensorFlow 0.99  \nKeras      0.47  \nPyTorch    0.21  \nTheano     0.12  \nMXNET      0.09  \nCNTK       0.05  \nFastAI     0.01  ",
            "text/html": "<div>\n<style scoped>\n    .dataframe tbody tr th:only-of-type {\n        vertical-align: middle;\n    }\n\n    .dataframe tbody tr th {\n        vertical-align: top;\n    }\n\n    .dataframe thead th {\n        text-align: right;\n    }\n</style>\n<table border=\"1\" class=\"dataframe\">\n  <thead>\n    <tr style=\"text-align: right;\">\n      <th></th>\n      <th>w_hiring</th>\n      <th>w_usage</th>\n      <th>w_github</th>\n      <th>w_search</th>\n      <th>w_arxiv</th>\n      <th>w_books</th>\n      <th>w_medium</th>\n      <th>ps</th>\n    </tr>\n    <tr>\n      <th>framework</th>\n      <th></th>\n      <th></th>\n      <th></th>\n      <th></th>\n      <th></th>\n      <th></th>\n      <th></th>\n      <th></th>\n    </tr>\n  </thead>\n  <tbody>\n    <tr>\n      <th>TensorFlow</th>\n      <td>0.30</td>\n      <td>0.20</td>\n      <td>0.10</td>\n      <td>0.10</td>\n      <td>0.10</td>\n      <td>0.10</td>\n      <td>0.09</td>\n      <td>0.99</td>\n    </tr>\n    <tr>\n      <th>Keras</th>\n      <td>0.09</td>\n      <td>0.15</td>\n      <td>0.02</td>\n      <td>0.05</td>\n      <td>0.02</td>\n      <td>0.04</td>\n      <td>0.10</td>\n      <td>0.47</td>\n    </tr>\n    <tr>\n      <th>PyTorch</th>\n      <td>0.07</td>\n      <td>0.04</td>\n      <td>0.02</td>\n      <td>0.04</td>\n      <td>0.02</td>\n      <td>0.01</td>\n      <td>0.01</td>\n      <td>0.21</td>\n    </tr>\n    <tr>\n      <th>Theano</th>\n      <td>0.06</td>\n      <td>0.03</td>\n      <td>0.00</td>\n      <td>0.00</td>\n      <td>0.02</td>\n      <td>0.01</td>\n      <td>0.00</td>\n      <td>0.12</td>\n    </tr>\n    <tr>\n      <th>MXNET</th>\n      <td>0.03</td>\n      <td>0.01</td>\n      <td>0.01</td>\n      <td>0.00</td>\n      <td>0.01</td>\n      <td>0.02</td>\n      <td>0.00</td>\n      <td>0.09</td>\n    </tr>\n    <tr>\n      <th>CNTK</th>\n      <td>0.02</td>\n      <td>0.02</td>\n      <td>0.01</td>\n      <td>0.00</td>\n      <td>0.01</td>\n      <td>0.00</td>\n      <td>0.00</td>\n      <td>0.05</td>\n    </tr>\n    <tr>\n      <th>FastAI</th>\n      <td>0.00</td>\n      <td>0.00</td>\n      <td>0.00</td>\n      <td>0.00</td>\n      <td>0.00</td>\n      <td>0.00</td>\n      <td>0.01</td>\n      <td>0.01</td>\n    </tr>\n  </tbody>\n</table>\n</div>"
          },
          "metadata": {}
        }
      ]
    },
    {
      "metadata": {
        "_uuid": "b60aef0b45cceb6898344158b7ed889ef45115ac"
      },
      "cell_type": "markdown",
      "source": "Let's clean things up for publication"
    },
    {
      "metadata": {
        "trusted": true,
        "_uuid": "9a60dab959409d1912113bd5304d133006efa1ae"
      },
      "cell_type": "code",
      "source": "p_s_df = scaled_df * 100\np_s_df = p_s_df.round(2)\np_s_df.columns = ['Job Search Listings', 'Usage Survey', 'Search Volume', 'Medium Articles', 'Amazon Books', 'ArXiv Articles', 'GitHub Activity', 'Power Score']\np_s_df.rename_axis('Framework', inplace = True)\np_s_df",
      "execution_count": 37,
      "outputs": [
        {
          "output_type": "execute_result",
          "execution_count": 37,
          "data": {
            "text/plain": "            Job Search Listings  Usage Survey  Search Volume  Medium Articles  \\\nFramework                                                                       \nTensorFlow                30.00         20.00          10.00            10.00   \nKeras                      8.94         15.17           2.39             4.81   \nPyTorch                    7.34          4.14           1.50             3.77   \nTheano                     5.80          2.76           0.32             0.00   \nMXNET                      3.26          0.69           1.23             0.26   \nCNTK                       1.69          2.07           0.55             0.00   \nFastAI                     0.00          0.00           0.02             0.13   \n\n            Amazon Books  ArXiv Articles  GitHub Activity  Power Score  \nFramework                                                               \nTensorFlow         10.00           10.00             9.39        99.39  \nKeras               1.75            3.91            10.00        46.97  \nPyTorch             2.05            0.89             1.21        20.90  \nTheano              1.75            0.84             0.21        11.68  \nMXNET               1.25            1.58             0.28         8.56  \nCNTK                0.60            0.05             0.00         4.96  \nFastAI              0.00            0.00             0.80         0.95  ",
            "text/html": "<div>\n<style scoped>\n    .dataframe tbody tr th:only-of-type {\n        vertical-align: middle;\n    }\n\n    .dataframe tbody tr th {\n        vertical-align: top;\n    }\n\n    .dataframe thead th {\n        text-align: right;\n    }\n</style>\n<table border=\"1\" class=\"dataframe\">\n  <thead>\n    <tr style=\"text-align: right;\">\n      <th></th>\n      <th>Job Search Listings</th>\n      <th>Usage Survey</th>\n      <th>Search Volume</th>\n      <th>Medium Articles</th>\n      <th>Amazon Books</th>\n      <th>ArXiv Articles</th>\n      <th>GitHub Activity</th>\n      <th>Power Score</th>\n    </tr>\n    <tr>\n      <th>Framework</th>\n      <th></th>\n      <th></th>\n      <th></th>\n      <th></th>\n      <th></th>\n      <th></th>\n      <th></th>\n      <th></th>\n    </tr>\n  </thead>\n  <tbody>\n    <tr>\n      <th>TensorFlow</th>\n      <td>30.00</td>\n      <td>20.00</td>\n      <td>10.00</td>\n      <td>10.00</td>\n      <td>10.00</td>\n      <td>10.00</td>\n      <td>9.39</td>\n      <td>99.39</td>\n    </tr>\n    <tr>\n      <th>Keras</th>\n      <td>8.94</td>\n      <td>15.17</td>\n      <td>2.39</td>\n      <td>4.81</td>\n      <td>1.75</td>\n      <td>3.91</td>\n      <td>10.00</td>\n      <td>46.97</td>\n    </tr>\n    <tr>\n      <th>PyTorch</th>\n      <td>7.34</td>\n      <td>4.14</td>\n      <td>1.50</td>\n      <td>3.77</td>\n      <td>2.05</td>\n      <td>0.89</td>\n      <td>1.21</td>\n      <td>20.90</td>\n    </tr>\n    <tr>\n      <th>Theano</th>\n      <td>5.80</td>\n      <td>2.76</td>\n      <td>0.32</td>\n      <td>0.00</td>\n      <td>1.75</td>\n      <td>0.84</td>\n      <td>0.21</td>\n      <td>11.68</td>\n    </tr>\n    <tr>\n      <th>MXNET</th>\n      <td>3.26</td>\n      <td>0.69</td>\n      <td>1.23</td>\n      <td>0.26</td>\n      <td>1.25</td>\n      <td>1.58</td>\n      <td>0.28</td>\n      <td>8.56</td>\n    </tr>\n    <tr>\n      <th>CNTK</th>\n      <td>1.69</td>\n      <td>2.07</td>\n      <td>0.55</td>\n      <td>0.00</td>\n      <td>0.60</td>\n      <td>0.05</td>\n      <td>0.00</td>\n      <td>4.96</td>\n    </tr>\n    <tr>\n      <th>FastAI</th>\n      <td>0.00</td>\n      <td>0.00</td>\n      <td>0.02</td>\n      <td>0.13</td>\n      <td>0.00</td>\n      <td>0.00</td>\n      <td>0.80</td>\n      <td>0.95</td>\n    </tr>\n  </tbody>\n</table>\n</div>"
          },
          "metadata": {}
        }
      ]
    },
    {
      "metadata": {
        "_uuid": "1c9f48ceb8f5d414a3480ec678fb41a5a628b066"
      },
      "cell_type": "markdown",
      "source": "Let's make a bar chart of the power scores."
    },
    {
      "metadata": {
        "trusted": true,
        "_uuid": "6f69cd7233e4d7af07b61cfda87145421d0fdf2e"
      },
      "cell_type": "code",
      "source": "data = [\n    go.Bar(\n        x=scaled_df.index,          # you can pass plotly the axis\n        y=p_s_df['Power Score'],\n        marker=dict(color=cs),\n        text=p_s_df['Power Score'],\n        textposition='outside',\n        textfont=dict(size=10)\n    )\n]\n\nlayout = {\n    'title': 'Deep Learning Framework Power Scores 2018',\n    'xaxis': {'title': 'Framework'},\n    'yaxis': {'title': \"Score\"}\n}\n\nfig = go.Figure(data=data, layout=layout)\npy.iplot(fig)",
      "execution_count": 38,
      "outputs": [
        {
          "output_type": "display_data",
          "data": {
            "application/vnd.plotly.v1+json": {
              "data": [
                {
                  "marker": {
                    "color": [
                      "rgb(27,158,119)",
                      "rgb(217,95,2)",
                      "rgb(117,112,179)",
                      "rgb(231,41,138)",
                      "rgb(102,166,30)",
                      "rgb(230,171,2)",
                      "rgb(166,118,29)"
                    ]
                  },
                  "text": [
                    99.39,
                    46.97,
                    20.9,
                    11.68,
                    8.56,
                    4.96,
                    0.95
                  ],
                  "textfont": {
                    "size": 10
                  },
                  "textposition": "outside",
                  "x": [
                    "TensorFlow",
                    "Keras",
                    "PyTorch",
                    "Theano",
                    "MXNET",
                    "CNTK",
                    "FastAI"
                  ],
                  "y": [
                    99.39,
                    46.97,
                    20.9,
                    11.68,
                    8.56,
                    4.96,
                    0.95
                  ],
                  "type": "bar",
                  "uid": "79f7a69e-bc6b-11e8-933f-0242ac130008"
                }
              ],
              "layout": {
                "title": "Deep Learning Framework Power Scores 2018",
                "xaxis": {
                  "title": "Framework"
                },
                "yaxis": {
                  "title": "Score"
                }
              }
            },
            "text/html": "<div id=\"0c430935-8e3e-4e4d-9991-190678e5a91a\" style=\"height: 525px; width: 100%;\" class=\"plotly-graph-div\"></div><script type=\"text/javascript\">require([\"plotly\"], function(Plotly) { window.PLOTLYENV=window.PLOTLYENV || {};window.PLOTLYENV.BASE_URL=\"https://plot.ly\";Plotly.newPlot(\"0c430935-8e3e-4e4d-9991-190678e5a91a\", [{\"marker\": {\"color\": [\"rgb(27,158,119)\", \"rgb(217,95,2)\", \"rgb(117,112,179)\", \"rgb(231,41,138)\", \"rgb(102,166,30)\", \"rgb(230,171,2)\", \"rgb(166,118,29)\"]}, \"text\": [99.39, 46.97, 20.9, 11.68, 8.56, 4.96, 0.95], \"textfont\": {\"size\": 10}, \"textposition\": \"outside\", \"x\": [\"TensorFlow\", \"Keras\", \"PyTorch\", \"Theano\", \"MXNET\", \"CNTK\", \"FastAI\"], \"y\": [99.39, 46.97, 20.9, 11.68, 8.56, 4.96, 0.95], \"type\": \"bar\", \"uid\": \"79f7a69e-bc6b-11e8-933f-0242ac130008\"}], {\"title\": \"Deep Learning Framework Power Scores 2018\", \"xaxis\": {\"title\": \"Framework\"}, \"yaxis\": {\"title\": \"Score\"}}, {\"showLink\": true, \"linkText\": \"Export to plot.ly\"})});</script>",
            "text/vnd.plotly.v1+html": "<div id=\"0c430935-8e3e-4e4d-9991-190678e5a91a\" style=\"height: 525px; width: 100%;\" class=\"plotly-graph-div\"></div><script type=\"text/javascript\">require([\"plotly\"], function(Plotly) { window.PLOTLYENV=window.PLOTLYENV || {};window.PLOTLYENV.BASE_URL=\"https://plot.ly\";Plotly.newPlot(\"0c430935-8e3e-4e4d-9991-190678e5a91a\", [{\"marker\": {\"color\": [\"rgb(27,158,119)\", \"rgb(217,95,2)\", \"rgb(117,112,179)\", \"rgb(231,41,138)\", \"rgb(102,166,30)\", \"rgb(230,171,2)\", \"rgb(166,118,29)\"]}, \"text\": [99.39, 46.97, 20.9, 11.68, 8.56, 4.96, 0.95], \"textfont\": {\"size\": 10}, \"textposition\": \"outside\", \"x\": [\"TensorFlow\", \"Keras\", \"PyTorch\", \"Theano\", \"MXNET\", \"CNTK\", \"FastAI\"], \"y\": [99.39, 46.97, 20.9, 11.68, 8.56, 4.96, 0.95], \"type\": \"bar\", \"uid\": \"79f7a69e-bc6b-11e8-933f-0242ac130008\"}], {\"title\": \"Deep Learning Framework Power Scores 2018\", \"xaxis\": {\"title\": \"Framework\"}, \"yaxis\": {\"title\": \"Score\"}}, {\"showLink\": true, \"linkText\": \"Export to plot.ly\"})});</script>"
          },
          "metadata": {}
        }
      ]
    },
    {
      "metadata": {
        "_uuid": "d9377852c504ffd1df737796f16fc22e850c776b"
      },
      "cell_type": "markdown",
      "source": "### That's the end! \n### See [this Medium article](https://towardsdatascience.com/deep-learning-framework-power-scores-2018-23607ddf297a) for a discussion of the state of Python deep learning frameworks in 2018 featuring these charts.\n## Pleave upvote if you found this interesting or informative!"
    }
  ],
  "metadata": {
    "kernelspec": {
      "display_name": "Python 3",
      "language": "python",
      "name": "python3"
    },
    "language_info": {
      "codemirror_mode": {
        "name": "ipython",
        "version": 3
      },
      "file_extension": ".py",
      "mimetype": "text/x-python",
      "name": "python",
      "nbconvert_exporter": "python",
      "pygments_lexer": "ipython3",
      "version": "3.6.6"
    }
  },
  "nbformat": 4,
  "nbformat_minor": 1
}